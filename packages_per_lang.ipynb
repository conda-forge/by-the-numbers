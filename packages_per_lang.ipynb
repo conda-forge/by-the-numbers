{
 "cells": [
  {
   "cell_type": "code",
   "execution_count": 1,
   "metadata": {},
   "outputs": [],
   "source": [
    "%matplotlib inline"
   ]
  },
  {
   "cell_type": "code",
   "execution_count": 2,
   "metadata": {},
   "outputs": [],
   "source": [
    "from pathlib import Path\n",
    "import matplotlib.pyplot as plt"
   ]
  },
  {
   "cell_type": "code",
   "execution_count": 3,
   "metadata": {},
   "outputs": [
    {
     "name": "stderr",
     "output_type": "stream",
     "text": [
      "/home/christopher/mc/lib/python3.7/site-packages/github3/session.py:3: DeprecationWarning: Using or importing the ABCs from 'collections' instead of from 'collections.abc' is deprecated since Python 3.3,and in 3.9 it will stop working\n",
      "  from collections import Callable\n",
      "/home/christopher/mc/lib/python3.7/site-packages/github3/structs.py:11: DeprecationWarning: Using or importing the ABCs from 'collections' instead of from 'collections.abc' is deprecated since Python 3.3,and in 3.9 it will stop working\n",
      "  class GitHubIterator(models.GitHubCore, collections.Iterator):\n"
     ]
    }
   ],
   "source": [
    "path = Path(\".\")\n",
    "if path.joinpath('../cf-graph-countyfair').is_dir():\n",
    "    !ln -s ../cf-graph-countyfair/graph.json graph.json\n",
    "\n",
    "elif not path.joinpath(\"cf-graph-countyfair\").is_dir():\n",
    "    !git clone https://github.com/regro/cf-graph-countyfair --depth=1\n",
    "    !ln -s cf-graph-countyfair/graph.json graph.json\n",
    "\n",
    "try:\n",
    "    from conda_forge_tick.utils import load_graph\n",
    "except:\n",
    "    if not path.joinpath(\"cf-scripts\").is_dir():\n",
    "        !git clone https://github.com/regro/cf-scripts\n",
    "        !ln -s cf-scripts/conda_forge_tick  conda_forge_tick"
   ]
  },
  {
   "cell_type": "code",
   "execution_count": 4,
   "metadata": {},
   "outputs": [
    {
     "name": "stderr",
     "output_type": "stream",
     "text": [
      "/home/christopher/mc/lib/python3.7/site-packages/ipykernel/ipkernel.py:287: DeprecationWarning: `should_run_async` will not call `transform_cell` automatically in the future. Please pass the result to `transformed_cell` argument and any exception that happen during thetransform in `preprocessing_exc_tuple` in IPython 7.17 and above.\n",
      "  and should_run_async(code)\n"
     ]
    }
   ],
   "source": [
    "gx = load_graph()"
   ]
  },
  {
   "cell_type": "code",
   "execution_count": 5,
   "metadata": {},
   "outputs": [
    {
     "data": {
      "text/plain": [
       "['pthread-stubs',\n",
       " 'xorg-libpthread-stubs',\n",
       " 'c_compiler_stub',\n",
       " 'cxx_compiler_stub',\n",
       " 'fortran_compiler_stub',\n",
       " 'm2w64_c_compiler_stub',\n",
       " 'm2w64_cxx_compiler_stub',\n",
       " 'm2w64_fortran_compiler_stub',\n",
       " 'compatible_pin_stub',\n",
       " 'subpackage_stub',\n",
       " 'cdt_stub',\n",
       " 'go_compiler_stub',\n",
       " 'cgo_compiler_stub',\n",
       " 'pyspark-stubs',\n",
       " 'cuda_compiler_stub',\n",
       " 'go14_compiler_stub',\n",
       " 'go-cgo_compiler_stub',\n",
       " 'r_clang_compiler_stub',\n",
       " 'rust_compiler_stub',\n",
       " 'clang_bootstrap_compiler_stub']"
      ]
     },
     "execution_count": 5,
     "metadata": {},
     "output_type": "execute_result"
    }
   ],
   "source": [
    "[n for n in gx.nodes if \"stub\" in n]"
   ]
  },
  {
   "cell_type": "code",
   "execution_count": 14,
   "metadata": {},
   "outputs": [
    {
     "name": "stderr",
     "output_type": "stream",
     "text": [
      "/home/christopher/mc/lib/python3.7/site-packages/ipykernel/ipkernel.py:287: DeprecationWarning: `should_run_async` will not call `transform_cell` automatically in the future. Please pass the result to `transformed_cell` argument and any exception that happen during thetransform in `preprocessing_exc_tuple` in IPython 7.17 and above.\n",
      "  and should_run_async(code)\n"
     ]
    }
   ],
   "source": [
    "langs = {\n",
    "    \"python\": \"Python\",\n",
    "    \"c_compiler_stub\": \"C\",\n",
    "    \"cxx_compiler_stub\": \"C++\",\n",
    "    \"fortran_compiler_stub\": \"Fortran\",\n",
    "    \"go_compiler_stub\": \"Go\",\n",
    "    \"r-base\": \"R\",\n",
    "    \"perl\": \"Perl\",\n",
    "}"
   ]
  },
  {
   "cell_type": "code",
   "execution_count": 15,
   "metadata": {},
   "outputs": [],
   "source": [
    "double = len([k for k in gx.nodes if len(set(gx.predecessors(k)) & set(langs)) == 2])\n",
    "triple = len([k for k in gx.nodes if len(set(gx.predecessors(k)) & set(langs)) >= 3])\n",
    "others = len([k for k in gx.nodes if len(set(gx.predecessors(k)) & set(langs)) == 0])"
   ]
  },
  {
   "cell_type": "code",
   "execution_count": 16,
   "metadata": {},
   "outputs": [],
   "source": [
    "ns = [len(list(gx.successors(k))) for k in langs]"
   ]
  },
  {
   "cell_type": "code",
   "execution_count": 17,
   "metadata": {},
   "outputs": [],
   "source": [
    "ns.extend([double, triple, others])\n",
    "langs.update({\"double\": \"Dual\", \"triple\": \"Polyglot\", \"other\": \"Other\"})"
   ]
  },
  {
   "cell_type": "code",
   "execution_count": 18,
   "metadata": {},
   "outputs": [
    {
     "name": "stdout",
     "output_type": "stream",
     "text": [
      "[6922, 2991, 1885, 327, 124, 2336, 89, 1650, 1166, 764]\n"
     ]
    }
   ],
   "source": [
    "print(ns)"
   ]
  },
  {
   "cell_type": "code",
   "execution_count": 19,
   "metadata": {},
   "outputs": [],
   "source": [
    "import pandas as pd\n",
    "\n",
    "df = pd.DataFrame([ns], columns=langs.values(), index=[\"Number of Packages\"]).T\n",
    "df.sort_values(by=\"Number of Packages\", inplace=True)"
   ]
  },
  {
   "cell_type": "code",
   "execution_count": 20,
   "metadata": {},
   "outputs": [
    {
     "data": {
      "text/html": [
       "<div>\n",
       "<style scoped>\n",
       "    .dataframe tbody tr th:only-of-type {\n",
       "        vertical-align: middle;\n",
       "    }\n",
       "\n",
       "    .dataframe tbody tr th {\n",
       "        vertical-align: top;\n",
       "    }\n",
       "\n",
       "    .dataframe thead th {\n",
       "        text-align: right;\n",
       "    }\n",
       "</style>\n",
       "<table border=\"1\" class=\"dataframe\">\n",
       "  <thead>\n",
       "    <tr style=\"text-align: right;\">\n",
       "      <th></th>\n",
       "      <th>Number of Packages</th>\n",
       "    </tr>\n",
       "  </thead>\n",
       "  <tbody>\n",
       "    <tr>\n",
       "      <th>Perl</th>\n",
       "      <td>89</td>\n",
       "    </tr>\n",
       "    <tr>\n",
       "      <th>Go</th>\n",
       "      <td>124</td>\n",
       "    </tr>\n",
       "    <tr>\n",
       "      <th>Fortran</th>\n",
       "      <td>327</td>\n",
       "    </tr>\n",
       "    <tr>\n",
       "      <th>Other</th>\n",
       "      <td>764</td>\n",
       "    </tr>\n",
       "    <tr>\n",
       "      <th>Polyglot</th>\n",
       "      <td>1166</td>\n",
       "    </tr>\n",
       "    <tr>\n",
       "      <th>Dual</th>\n",
       "      <td>1650</td>\n",
       "    </tr>\n",
       "    <tr>\n",
       "      <th>C++</th>\n",
       "      <td>1885</td>\n",
       "    </tr>\n",
       "    <tr>\n",
       "      <th>R</th>\n",
       "      <td>2336</td>\n",
       "    </tr>\n",
       "    <tr>\n",
       "      <th>C</th>\n",
       "      <td>2991</td>\n",
       "    </tr>\n",
       "    <tr>\n",
       "      <th>Python</th>\n",
       "      <td>6922</td>\n",
       "    </tr>\n",
       "  </tbody>\n",
       "</table>\n",
       "</div>"
      ],
      "text/plain": [
       "          Number of Packages\n",
       "Perl                      89\n",
       "Go                       124\n",
       "Fortran                  327\n",
       "Other                    764\n",
       "Polyglot                1166\n",
       "Dual                    1650\n",
       "C++                     1885\n",
       "R                       2336\n",
       "C                       2991\n",
       "Python                  6922"
      ]
     },
     "execution_count": 20,
     "metadata": {},
     "output_type": "execute_result"
    }
   ],
   "source": [
    "df"
   ]
  },
  {
   "cell_type": "code",
   "execution_count": 21,
   "metadata": {
    "scrolled": false
   },
   "outputs": [
    {
     "name": "stderr",
     "output_type": "stream",
     "text": [
      "/home/christopher/mc/lib/python3.7/site-packages/ipykernel/ipkernel.py:287: DeprecationWarning: `should_run_async` will not call `transform_cell` automatically in the future. Please pass the result to `transformed_cell` argument and any exception that happen during thetransform in `preprocessing_exc_tuple` in IPython 7.17 and above.\n",
      "  and should_run_async(code)\n"
     ]
    },
    {
     "data": {
      "image/png": "[encoded data removed]",
      "text/plain": [
       "<Figure size 640x480 with 1 Axes>"
      ]
     },
     "metadata": {},
     "output_type": "display_data"
    },
    {
     "data": {
      "image/png": "[encoded data removed]",
      "text/plain": [
       "<Figure size 748.8x514.8 with 1 Axes>"
      ]
     },
     "metadata": {
      "needs_background": "light"
     },
     "output_type": "display_data"
    }
   ],
   "source": [
    "for context in [(\"dark_background\", \"seaborn-talk\"), (\"seaborn-talk\", )]:\n",
    "    with plt.style.context(*context):\n",
    "        fig, ax = plt.subplots()\n",
    "        df.plot.bar(legend=False, ax=ax)\n",
    "        ax.set_title(\"Number of Feedstocks by Language\")\n",
    "        ax.set_xlabel(\"Language\")\n",
    "        ax.set_ylabel(\"Number of Feedstocks\")\n",
    "        fig.savefig(f\"plots/n_packages_by_lang-{'_'.join(context)}.png\", bbox_inches='tight', transparent=True)"
   ]
  },
  {
   "cell_type": "code",
   "execution_count": null,
   "metadata": {},
   "outputs": [],
   "source": []
  }
 ],
 "metadata": {
  "kernelspec": {
   "display_name": "Python 3",
   "language": "python",
   "name": "python3"
  },
  "language_info": {
   "codemirror_mode": {
    "name": "ipython",
    "version": 3
   },
   "file_extension": ".py",
   "mimetype": "text/x-python",
   "name": "python",
   "nbconvert_exporter": "python",
   "pygments_lexer": "ipython3",
   "version": "3.7.8"
  }
 },
 "nbformat": 4,
 "nbformat_minor": 4
}
