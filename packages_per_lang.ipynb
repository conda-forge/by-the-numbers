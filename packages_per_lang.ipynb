{
 "cells": [
  {
   "cell_type": "code",
   "execution_count": 1,
   "metadata": {},
   "outputs": [],
   "source": [
    "%matplotlib inline"
   ]
  },
  {
   "cell_type": "code",
   "execution_count": 2,
   "metadata": {},
   "outputs": [],
   "source": [
    "from pathlib import Path\n",
    "import matplotlib.pyplot as plt"
   ]
  },
  {
   "cell_type": "code",
   "execution_count": 3,
   "metadata": {},
   "outputs": [
    {
     "name": "stdout",
     "output_type": "stream",
     "text": [
      "Cloning into 'cf-graph-countyfair'...\n",
      "remote: Enumerating objects: 116967, done.\u001b[K\n",
      "remote: Counting objects: 100% (116967/116967), done.\u001b[K\n",
      "remote: Compressing objects: 100% (46242/46242), done.\u001b[K\n",
      "remote: Total 116967 (delta 83763), reused 90492 (delta 68408), pack-reused 0\n",
      "Receiving objects: 100% (116967/116967), 48.64 MiB | 8.74 MiB/s, done.\n",
      "Resolving deltas: 100% (83763/83763), done.\n",
      "Updating files: 100% (131370/131370), done.\n"
     ]
    },
    {
     "name": "stderr",
     "output_type": "stream",
     "text": [
      "/home/cjwright/mc/lib/python3.8/site-packages/github3/session.py:3: DeprecationWarning: Using or importing the ABCs from 'collections' instead of from 'collections.abc' is deprecated since Python 3.3, and in 3.9 it will stop working\n",
      "  from collections import Callable\n",
      "/home/cjwright/mc/lib/python3.8/site-packages/github3/structs.py:11: DeprecationWarning: Using or importing the ABCs from 'collections' instead of from 'collections.abc' is deprecated since Python 3.3, and in 3.9 it will stop working\n",
      "  class GitHubIterator(models.GitHubCore, collections.Iterator):\n"
     ]
    }
   ],
   "source": [
    "path = Path(\".\")\n",
    "if path.joinpath('../cf-graph-countyfair').is_dir():\n",
    "    !ln -s ../cf-graph-countyfair/graph.json graph.json\n",
    "\n",
    "elif not path.joinpath(\"cf-graph-countyfair\").is_dir():\n",
    "    !git clone https://github.com/regro/cf-graph-countyfair --depth=1\n",
    "    !ln -s cf-graph-countyfair/graph.json graph.json\n",
    "\n",
    "try:\n",
    "    from conda_forge_tick.utils import load_graph\n",
    "except:\n",
    "    if not path.joinpath(\"cf-scripts\").is_dir():\n",
    "        !git clone https://github.com/regro/cf-scripts\n",
    "        !ln -s cf-scripts/conda_forge_tick  conda_forge_tick"
   ]
  },
  {
   "cell_type": "code",
   "execution_count": 4,
   "metadata": {},
   "outputs": [
    {
     "name": "stderr",
     "output_type": "stream",
     "text": [
      "/home/cjwright/mc/lib/python3.8/site-packages/ipykernel/ipkernel.py:283: DeprecationWarning: `should_run_async` will not call `transform_cell` automatically in the future. Please pass the result to `transformed_cell` argument and any exception that happen during thetransform in `preprocessing_exc_tuple` in IPython 7.17 and above.\n",
      "  and should_run_async(code)\n"
     ]
    }
   ],
   "source": [
    "gx = load_graph()"
   ]
  },
  {
   "cell_type": "code",
   "execution_count": 5,
   "metadata": {},
   "outputs": [
    {
     "data": {
      "text/plain": [
       "['pthread-stubs',\n",
       " 'xorg-libpthread-stubs',\n",
       " 'c_compiler_stub',\n",
       " 'cxx_compiler_stub',\n",
       " 'fortran_compiler_stub',\n",
       " 'm2w64_c_compiler_stub',\n",
       " 'm2w64_cxx_compiler_stub',\n",
       " 'm2w64_fortran_compiler_stub',\n",
       " 'compatible_pin_stub',\n",
       " 'subpackage_stub',\n",
       " 'cdt_stub',\n",
       " 'go_compiler_stub',\n",
       " 'cgo_compiler_stub',\n",
       " 'pyspark-stubs',\n",
       " 'cuda_compiler_stub',\n",
       " 'go14_compiler_stub',\n",
       " 'go-cgo_compiler_stub',\n",
       " 'r_clang_compiler_stub',\n",
       " 'rust_compiler_stub',\n",
       " 'clang_bootstrap_compiler_stub',\n",
       " 'pandas-stubs']"
      ]
     },
     "execution_count": 5,
     "metadata": {},
     "output_type": "execute_result"
    }
   ],
   "source": [
    "[n for n in gx.nodes if \"stub\" in n]"
   ]
  },
  {
   "cell_type": "code",
   "execution_count": 6,
   "metadata": {},
   "outputs": [],
   "source": [
    "langs = {\n",
    "    \"python\": \"Python\",\n",
    "    \"c_compiler_stub\": \"C\",\n",
    "    \"cxx_compiler_stub\": \"C++\",\n",
    "    \"fortran_compiler_stub\": \"Fortran\",\n",
    "    \"go_compiler_stub\": \"Go\",\n",
    "    \"r-base\": \"R\",\n",
    "    \"perl\": \"Perl\",\n",
    "}"
   ]
  },
  {
   "cell_type": "code",
   "execution_count": 7,
   "metadata": {},
   "outputs": [],
   "source": [
    "double = len([k for k in gx.nodes if len(set(gx.predecessors(k)) & set(langs)) == 2])\n",
    "triple = len([k for k in gx.nodes if len(set(gx.predecessors(k)) & set(langs)) >= 3])\n",
    "others = len([k for k in gx.nodes if len(set(gx.predecessors(k)) & set(langs)) == 0])"
   ]
  },
  {
   "cell_type": "code",
   "execution_count": 8,
   "metadata": {},
   "outputs": [],
   "source": [
    "ns = [len(list(gx.successors(k))) for k in langs]"
   ]
  },
  {
   "cell_type": "code",
   "execution_count": 9,
   "metadata": {},
   "outputs": [],
   "source": [
    "ns.extend([double, triple, others])\n",
    "langs.update({\"double\": \"Dual\", \"triple\": \"Polyglot\", \"other\": \"Other\"})"
   ]
  },
  {
   "cell_type": "code",
   "execution_count": 10,
   "metadata": {},
   "outputs": [
    {
     "name": "stdout",
     "output_type": "stream",
     "text": [
      "[7786, 3226, 2090, 348, 128, 2484, 98, 1786, 1272, 768]\n"
     ]
    }
   ],
   "source": [
    "print(ns)"
   ]
  },
  {
   "cell_type": "code",
   "execution_count": 11,
   "metadata": {},
   "outputs": [],
   "source": [
    "import pandas as pd\n",
    "\n",
    "df = pd.DataFrame([ns], columns=langs.values(), index=[\"Number of Packages\"]).T\n",
    "df.sort_values(by=\"Number of Packages\", inplace=True)"
   ]
  },
  {
   "cell_type": "code",
   "execution_count": 12,
   "metadata": {},
   "outputs": [
    {
     "data": {
      "text/html": [
       "<div>\n",
       "<style scoped>\n",
       "    .dataframe tbody tr th:only-of-type {\n",
       "        vertical-align: middle;\n",
       "    }\n",
       "\n",
       "    .dataframe tbody tr th {\n",
       "        vertical-align: top;\n",
       "    }\n",
       "\n",
       "    .dataframe thead th {\n",
       "        text-align: right;\n",
       "    }\n",
       "</style>\n",
       "<table border=\"1\" class=\"dataframe\">\n",
       "  <thead>\n",
       "    <tr style=\"text-align: right;\">\n",
       "      <th></th>\n",
       "      <th>Number of Packages</th>\n",
       "    </tr>\n",
       "  </thead>\n",
       "  <tbody>\n",
       "    <tr>\n",
       "      <th>Perl</th>\n",
       "      <td>98</td>\n",
       "    </tr>\n",
       "    <tr>\n",
       "      <th>Go</th>\n",
       "      <td>128</td>\n",
       "    </tr>\n",
       "    <tr>\n",
       "      <th>Fortran</th>\n",
       "      <td>348</td>\n",
       "    </tr>\n",
       "    <tr>\n",
       "      <th>Other</th>\n",
       "      <td>768</td>\n",
       "    </tr>\n",
       "    <tr>\n",
       "      <th>Polyglot</th>\n",
       "      <td>1272</td>\n",
       "    </tr>\n",
       "    <tr>\n",
       "      <th>Dual</th>\n",
       "      <td>1786</td>\n",
       "    </tr>\n",
       "    <tr>\n",
       "      <th>C++</th>\n",
       "      <td>2090</td>\n",
       "    </tr>\n",
       "    <tr>\n",
       "      <th>R</th>\n",
       "      <td>2484</td>\n",
       "    </tr>\n",
       "    <tr>\n",
       "      <th>C</th>\n",
       "      <td>3226</td>\n",
       "    </tr>\n",
       "    <tr>\n",
       "      <th>Python</th>\n",
       "      <td>7786</td>\n",
       "    </tr>\n",
       "  </tbody>\n",
       "</table>\n",
       "</div>"
      ],
      "text/plain": [
       "          Number of Packages\n",
       "Perl                      98\n",
       "Go                       128\n",
       "Fortran                  348\n",
       "Other                    768\n",
       "Polyglot                1272\n",
       "Dual                    1786\n",
       "C++                     2090\n",
       "R                       2484\n",
       "C                       3226\n",
       "Python                  7786"
      ]
     },
     "execution_count": 12,
     "metadata": {},
     "output_type": "execute_result"
    }
   ],
   "source": [
    "df"
   ]
  },
  {
   "cell_type": "code",
   "execution_count": 13,
   "metadata": {
    "scrolled": false
   },
   "outputs": [
    {
     "name": "stderr",
     "output_type": "stream",
     "text": [
      "/home/cjwright/mc/lib/python3.8/site-packages/ipykernel/ipkernel.py:283: DeprecationWarning: `should_run_async` will not call `transform_cell` automatically in the future. Please pass the result to `transformed_cell` argument and any exception that happen during thetransform in `preprocessing_exc_tuple` in IPython 7.17 and above.\n",
      "  and should_run_async(code)\n"
     ]
    },
    {
     "data": {
      "image/png": "[encoded data removed]",
      "text/plain": [
       "<Figure size 640x480 with 1 Axes>"
      ]
     },
     "metadata": {},
     "output_type": "display_data"
    },
    {
     "data": {
      "image/png": "[encoded data removed]",
      "text/plain": [
       "<Figure size 748.8x514.8 with 1 Axes>"
      ]
     },
     "metadata": {
      "needs_background": "light"
     },
     "output_type": "display_data"
    }
   ],
   "source": [
    "for context in [(\"dark_background\", \"seaborn-talk\"), (\"seaborn-talk\", )]:\n",
    "    with plt.style.context(*context):\n",
    "        fig, ax = plt.subplots()\n",
    "        df.plot.bar(legend=False, ax=ax)\n",
    "        ax.set_title(\"Number of Feedstocks by Language\")\n",
    "        ax.set_xlabel(\"Language\")\n",
    "        ax.set_ylabel(\"Number of Feedstocks\")\n",
    "        fig.savefig(f\"plots/n_packages_by_lang-{'_'.join(context)}.png\", bbox_inches='tight', transparent=True)"
   ]
  },
  {
   "cell_type": "code",
   "execution_count": null,
   "metadata": {},
   "outputs": [],
   "source": []
  }
 ],
 "metadata": {
  "kernelspec": {
   "display_name": "Python 3",
   "language": "python",
   "name": "python3"
  },
  "language_info": {
   "codemirror_mode": {
    "name": "ipython",
    "version": 3
   },
   "file_extension": ".py",
   "mimetype": "text/x-python",
   "name": "python",
   "nbconvert_exporter": "python",
   "pygments_lexer": "ipython3",
   "version": "3.8.6"
  }
 },
 "nbformat": 4,
 "nbformat_minor": 4
}
