{
 "cells": [
  {
   "cell_type": "code",
   "execution_count": 1,
   "metadata": {},
   "outputs": [
    {
     "name": "stderr",
     "output_type": "stream",
     "text": [
      "/home/christopher/mc/lib/python3.7/site-packages/github3/session.py:3: DeprecationWarning: Using or importing the ABCs from 'collections' instead of from 'collections.abc' is deprecated since Python 3.3,and in 3.9 it will stop working\n",
      "  from collections import Callable\n",
      "/home/christopher/mc/lib/python3.7/site-packages/github3/structs.py:11: DeprecationWarning: Using or importing the ABCs from 'collections' instead of from 'collections.abc' is deprecated since Python 3.3,and in 3.9 it will stop working\n",
      "  class GitHubIterator(models.GitHubCore, collections.Iterator):\n"
     ]
    }
   ],
   "source": [
    "import pandas as pd\n",
    "import requests\n",
    "from conda_forge_tick.utils import loads\n",
    "from collections import Counter\n",
    "import matplotlib.pyplot as plt"
   ]
  },
  {
   "cell_type": "code",
   "execution_count": 2,
   "metadata": {},
   "outputs": [
    {
     "name": "stderr",
     "output_type": "stream",
     "text": [
      "/home/christopher/mc/lib/python3.7/site-packages/ipykernel/ipkernel.py:287: DeprecationWarning: `should_run_async` will not call `transform_cell` automatically in the future. Please pass the result to `transformed_cell` argument and any exception that happen during thetransform in `preprocessing_exc_tuple` in IPython 7.17 and above.\n",
      "  and should_run_async(code)\n"
     ]
    }
   ],
   "source": [
    "df = pd.read_csv('https://raw.githubusercontent.com/regro/cf-graph-countyfair/master/audits/depfinder_accuracy.csv')"
   ]
  },
  {
   "cell_type": "code",
   "execution_count": 3,
   "metadata": {},
   "outputs": [],
   "source": [
    "df['time'] = pd.to_datetime(df['time'].values, unit='s')"
   ]
  },
  {
   "cell_type": "code",
   "execution_count": 4,
   "metadata": {},
   "outputs": [],
   "source": [
    "df = df.set_index('time').drop(columns=['audit_creation_version', 'definder_version'])"
   ]
  },
  {
   "cell_type": "code",
   "execution_count": 5,
   "metadata": {},
   "outputs": [],
   "source": [
    "df2 = df.copy().div(df.sum(axis=1), axis=0) * 100"
   ]
  },
  {
   "cell_type": "code",
   "execution_count": 6,
   "metadata": {},
   "outputs": [
    {
     "data": {
      "image/png": "[encoded data removed]",
      "text/plain": [
       "<Figure size 432x288 with 1 Axes>"
      ]
     },
     "metadata": {
      "needs_background": "light"
     },
     "output_type": "display_data"
    }
   ],
   "source": [
    "ax = df2.plot.area()"
   ]
  },
  {
   "cell_type": "code",
   "execution_count": 7,
   "metadata": {},
   "outputs": [
    {
     "name": "stderr",
     "output_type": "stream",
     "text": [
      "/home/christopher/mc/lib/python3.7/site-packages/ipykernel/ipkernel.py:287: DeprecationWarning: `should_run_async` will not call `transform_cell` automatically in the future. Please pass the result to `transformed_cell` argument and any exception that happen during thetransform in `preprocessing_exc_tuple` in IPython 7.17 and above.\n",
      "  and should_run_async(code)\n"
     ]
    },
    {
     "data": {
      "text/html": [
       "<div>\n",
       "<style scoped>\n",
       "    .dataframe tbody tr th:only-of-type {\n",
       "        vertical-align: middle;\n",
       "    }\n",
       "\n",
       "    .dataframe tbody tr th {\n",
       "        vertical-align: top;\n",
       "    }\n",
       "\n",
       "    .dataframe thead th {\n",
       "        text-align: right;\n",
       "    }\n",
       "</style>\n",
       "<table border=\"1\" class=\"dataframe\">\n",
       "  <thead>\n",
       "    <tr style=\"text-align: right;\">\n",
       "      <th></th>\n",
       "      <th>accurate</th>\n",
       "      <th>cf_over_specified</th>\n",
       "      <th>cf_under_specified</th>\n",
       "      <th>cf_over_and_under_specified</th>\n",
       "      <th>errored</th>\n",
       "    </tr>\n",
       "    <tr>\n",
       "      <th>time</th>\n",
       "      <th></th>\n",
       "      <th></th>\n",
       "      <th></th>\n",
       "      <th></th>\n",
       "      <th></th>\n",
       "    </tr>\n",
       "  </thead>\n",
       "  <tbody>\n",
       "    <tr>\n",
       "      <th>2020-11-24 10:09:12.298892498</th>\n",
       "      <td>37.880795</td>\n",
       "      <td>10.537160</td>\n",
       "      <td>26.460633</td>\n",
       "      <td>21.162620</td>\n",
       "      <td>3.958793</td>\n",
       "    </tr>\n",
       "    <tr>\n",
       "      <th>2020-11-24 11:07:33.981993437</th>\n",
       "      <td>37.880795</td>\n",
       "      <td>10.537160</td>\n",
       "      <td>26.460633</td>\n",
       "      <td>21.162620</td>\n",
       "      <td>3.958793</td>\n",
       "    </tr>\n",
       "    <tr>\n",
       "      <th>2020-11-24 12:09:26.554469824</th>\n",
       "      <td>37.880795</td>\n",
       "      <td>10.551876</td>\n",
       "      <td>26.460633</td>\n",
       "      <td>21.147903</td>\n",
       "      <td>3.958793</td>\n",
       "    </tr>\n",
       "    <tr>\n",
       "      <th>2020-11-24 13:08:07.145534515</th>\n",
       "      <td>37.880795</td>\n",
       "      <td>10.551876</td>\n",
       "      <td>26.460633</td>\n",
       "      <td>21.147903</td>\n",
       "      <td>3.958793</td>\n",
       "    </tr>\n",
       "    <tr>\n",
       "      <th>2020-11-24 14:08:41.909677267</th>\n",
       "      <td>37.880795</td>\n",
       "      <td>10.551876</td>\n",
       "      <td>26.460633</td>\n",
       "      <td>21.147903</td>\n",
       "      <td>3.958793</td>\n",
       "    </tr>\n",
       "  </tbody>\n",
       "</table>\n",
       "</div>"
      ],
      "text/plain": [
       "                                accurate  cf_over_specified  \\\n",
       "time                                                          \n",
       "2020-11-24 10:09:12.298892498  37.880795          10.537160   \n",
       "2020-11-24 11:07:33.981993437  37.880795          10.537160   \n",
       "2020-11-24 12:09:26.554469824  37.880795          10.551876   \n",
       "2020-11-24 13:08:07.145534515  37.880795          10.551876   \n",
       "2020-11-24 14:08:41.909677267  37.880795          10.551876   \n",
       "\n",
       "                               cf_under_specified  \\\n",
       "time                                                \n",
       "2020-11-24 10:09:12.298892498           26.460633   \n",
       "2020-11-24 11:07:33.981993437           26.460633   \n",
       "2020-11-24 12:09:26.554469824           26.460633   \n",
       "2020-11-24 13:08:07.145534515           26.460633   \n",
       "2020-11-24 14:08:41.909677267           26.460633   \n",
       "\n",
       "                               cf_over_and_under_specified   errored  \n",
       "time                                                                  \n",
       "2020-11-24 10:09:12.298892498                    21.162620  3.958793  \n",
       "2020-11-24 11:07:33.981993437                    21.162620  3.958793  \n",
       "2020-11-24 12:09:26.554469824                    21.147903  3.958793  \n",
       "2020-11-24 13:08:07.145534515                    21.147903  3.958793  \n",
       "2020-11-24 14:08:41.909677267                    21.147903  3.958793  "
      ]
     },
     "execution_count": 7,
     "metadata": {},
     "output_type": "execute_result"
    }
   ],
   "source": [
    "df2.tail()"
   ]
  },
  {
   "cell_type": "code",
   "execution_count": 8,
   "metadata": {},
   "outputs": [
    {
     "name": "stderr",
     "output_type": "stream",
     "text": [
      "/home/christopher/mc/lib/python3.7/site-packages/ipykernel/ipkernel.py:287: DeprecationWarning: `should_run_async` will not call `transform_cell` automatically in the future. Please pass the result to `transformed_cell` argument and any exception that happen during thetransform in `preprocessing_exc_tuple` in IPython 7.17 and above.\n",
      "  and should_run_async(code)\n"
     ]
    }
   ],
   "source": [
    "audit = loads(requests.get('https://raw.githubusercontent.com/regro/cf-graph-countyfair/master/audits/depfinder/_net_audit.json').text)"
   ]
  },
  {
   "cell_type": "code",
   "execution_count": 9,
   "metadata": {},
   "outputs": [],
   "source": [
    "df_minus_cf = {k: v['df_minus_cf'] for k, v in audit.items() if v and 'df_minus_cf' in v}"
   ]
  },
  {
   "cell_type": "code",
   "execution_count": 10,
   "metadata": {},
   "outputs": [],
   "source": [
    "df_minus_cf_counts = [len(v) for v in df_minus_cf.values()]"
   ]
  },
  {
   "cell_type": "code",
   "execution_count": 11,
   "metadata": {},
   "outputs": [
    {
     "data": {
      "text/plain": [
       "(array([   0., 1408.,  739.,  380.,  240.,  153.,   83.,   61.,   66.]),\n",
       " array([0, 1, 2, 3, 4, 5, 6, 7, 8, 9]),\n",
       " <BarContainer object of 9 artists>)"
      ]
     },
     "execution_count": 11,
     "metadata": {},
     "output_type": "execute_result"
    },
    {
     "data": {
      "image/png": "[encoded data removed]",
      "text/plain": [
       "<Figure size 432x288 with 1 Axes>"
      ]
     },
     "metadata": {
      "needs_background": "light"
     },
     "output_type": "display_data"
    }
   ],
   "source": [
    "plt.hist(df_minus_cf_counts, bins=range(10), align='left')"
   ]
  },
  {
   "cell_type": "code",
   "execution_count": 12,
   "metadata": {},
   "outputs": [],
   "source": [
    "df_minus_cf_pkgs = [vv for v in df_minus_cf.values() for vv in v]"
   ]
  },
  {
   "cell_type": "code",
   "execution_count": 13,
   "metadata": {},
   "outputs": [
    {
     "data": {
      "text/plain": [
       "[('matplotlib', 767),\n",
       " ('numpy', 459),\n",
       " ('pytest', 388),\n",
       " ('six', 240),\n",
       " ('pandas', 197),\n",
       " ('scipy', 179),\n",
       " ('requests', 172),\n",
       " ('pyyaml', 131),\n",
       " ('ipython', 120),\n",
       " ('docutils', 118)]"
      ]
     },
     "execution_count": 13,
     "metadata": {},
     "output_type": "execute_result"
    }
   ],
   "source": [
    "Counter(df_minus_cf_pkgs).most_common(10)"
   ]
  },
  {
   "cell_type": "code",
   "execution_count": 16,
   "metadata": {},
   "outputs": [],
   "source": [
    "cf_minus_df = {k: v['cf_minus_df'] for k, v in audit.items() if v and 'cf_minus_df' in v}"
   ]
  },
  {
   "cell_type": "code",
   "execution_count": 17,
   "metadata": {},
   "outputs": [],
   "source": [
    "cf_minus_df_counts = [len(v) for v in cf_minus_df.values()]"
   ]
  },
  {
   "cell_type": "code",
   "execution_count": 18,
   "metadata": {
    "scrolled": true
   },
   "outputs": [
    {
     "data": {
      "text/plain": [
       "(array([   0., 1286.,  439.,  200.,   93.,   51.,   25.,   16.,   13.]),\n",
       " array([0, 1, 2, 3, 4, 5, 6, 7, 8, 9]),\n",
       " <BarContainer object of 9 artists>)"
      ]
     },
     "execution_count": 18,
     "metadata": {},
     "output_type": "execute_result"
    },
    {
     "data": {
      "image/png": "[encoded data removed]",
      "text/plain": [
       "<Figure size 432x288 with 1 Axes>"
      ]
     },
     "metadata": {
      "needs_background": "light"
     },
     "output_type": "display_data"
    }
   ],
   "source": [
    "plt.hist(cf_minus_df_counts, bins=range(10), align='left')"
   ]
  },
  {
   "cell_type": "code",
   "execution_count": 19,
   "metadata": {},
   "outputs": [],
   "source": [
    "cf_minus_df_pkgs = [vv for v in cf_minus_df.values() for vv in v]"
   ]
  },
  {
   "cell_type": "code",
   "execution_count": 20,
   "metadata": {
    "scrolled": true
   },
   "outputs": [
    {
     "data": {
      "text/plain": [
       "[('matplotlib-base', 592),\n",
       " ('six', 112),\n",
       " ('future', 80),\n",
       " ('numpy', 76),\n",
       " ('scipy', 74),\n",
       " ('pytest', 56),\n",
       " ('requests', 45),\n",
       " ('pillow', 37),\n",
       " ('jupyter', 36),\n",
       " ('boost', 36)]"
      ]
     },
     "execution_count": 20,
     "metadata": {},
     "output_type": "execute_result"
    }
   ],
   "source": [
    "Counter(cf_minus_df_pkgs).most_common(10)"
   ]
  },
  {
   "cell_type": "code",
   "execution_count": 14,
   "metadata": {},
   "outputs": [],
   "source": [
    "single_df_minus_cf = {k: next(iter(v)) for k, v in df_minus_cf.items() if len(v) == 1}"
   ]
  },
  {
   "cell_type": "code",
   "execution_count": 15,
   "metadata": {},
   "outputs": [
    {
     "data": {
      "text/plain": [
       "[('matplotlib', 228),\n",
       " ('pytest', 143),\n",
       " ('numpy', 84),\n",
       " ('six', 42),\n",
       " ('cython', 33),\n",
       " ('traitlets', 29),\n",
       " ('django', 23),\n",
       " ('docutils', 23),\n",
       " ('werkzeug', 23),\n",
       " ('py', 22)]"
      ]
     },
     "execution_count": 15,
     "metadata": {},
     "output_type": "execute_result"
    }
   ],
   "source": [
    "Counter(single_df_minus_cf.values()).most_common(10)"
   ]
  },
  {
   "cell_type": "code",
   "execution_count": 21,
   "metadata": {},
   "outputs": [],
   "source": [
    "single_cf_minus_df = {k: next(iter(v)) for k, v in cf_minus_df.items() if len(v) == 1}"
   ]
  },
  {
   "cell_type": "code",
   "execution_count": 22,
   "metadata": {},
   "outputs": [],
   "source": [
    "counter = Counter(single_cf_minus_df.values())"
   ]
  },
  {
   "cell_type": "code",
   "execution_count": 23,
   "metadata": {
    "scrolled": true
   },
   "outputs": [
    {
     "data": {
      "text/plain": [
       "[('matplotlib-base', 324),\n",
       " ('six', 64),\n",
       " ('future', 38),\n",
       " ('numpy', 28),\n",
       " ('scipy', 22),\n",
       " ('boost', 15),\n",
       " ('requests', 14),\n",
       " ('pytest', 13),\n",
       " ('pyqt', 12),\n",
       " ('flake8', 12)]"
      ]
     },
     "execution_count": 23,
     "metadata": {},
     "output_type": "execute_result"
    }
   ],
   "source": [
    "counter.most_common(10)"
   ]
  },
  {
   "cell_type": "code",
   "execution_count": 24,
   "metadata": {},
   "outputs": [],
   "source": [
    "double_df_minus_cf = [vv for k, v in df_minus_cf.items() if len(v) == 2 for vv in v]"
   ]
  },
  {
   "cell_type": "code",
   "execution_count": 25,
   "metadata": {},
   "outputs": [],
   "source": [
    "counter = Counter(double_df_minus_cf)"
   ]
  },
  {
   "cell_type": "code",
   "execution_count": 26,
   "metadata": {
    "scrolled": false
   },
   "outputs": [
    {
     "data": {
      "text/plain": [
       "[('matplotlib', 173),\n",
       " ('numpy', 112),\n",
       " ('pytest', 83),\n",
       " ('six', 52),\n",
       " ('pyyaml', 35),\n",
       " ('scipy', 31),\n",
       " ('ipython', 31),\n",
       " ('requests', 28),\n",
       " ('traitlets', 28),\n",
       " ('pandas', 28)]"
      ]
     },
     "execution_count": 26,
     "metadata": {},
     "output_type": "execute_result"
    }
   ],
   "source": [
    "counter.most_common(10)"
   ]
  },
  {
   "cell_type": "code",
   "execution_count": null,
   "metadata": {},
   "outputs": [],
   "source": []
  }
 ],
 "metadata": {
  "kernelspec": {
   "display_name": "Python 3",
   "language": "python",
   "name": "python3"
  },
  "language_info": {
   "codemirror_mode": {
    "name": "ipython",
    "version": 3
   },
   "file_extension": ".py",
   "mimetype": "text/x-python",
   "name": "python",
   "nbconvert_exporter": "python",
   "pygments_lexer": "ipython3",
   "version": "3.7.8"
  }
 },
 "nbformat": 4,
 "nbformat_minor": 4
}
