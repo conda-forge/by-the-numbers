{
 "cells": [
  {
   "cell_type": "code",
   "execution_count": 1,
   "metadata": {},
   "outputs": [
    {
     "name": "stderr",
     "output_type": "stream",
     "text": [
      "/home/christopher/mc/lib/python3.7/site-packages/github3/session.py:3: DeprecationWarning: Using or importing the ABCs from 'collections' instead of from 'collections.abc' is deprecated since Python 3.3,and in 3.9 it will stop working\n",
      "  from collections import Callable\n",
      "/home/christopher/mc/lib/python3.7/site-packages/github3/structs.py:11: DeprecationWarning: Using or importing the ABCs from 'collections' instead of from 'collections.abc' is deprecated since Python 3.3,and in 3.9 it will stop working\n",
      "  class GitHubIterator(models.GitHubCore, collections.Iterator):\n"
     ]
    }
   ],
   "source": [
    "import pandas as pd\n",
    "import requests\n",
    "from conda_forge_tick.utils import loads\n",
    "from collections import Counter\n",
    "import matplotlib.pyplot as plt"
   ]
  },
  {
   "cell_type": "code",
   "execution_count": 2,
   "metadata": {},
   "outputs": [
    {
     "name": "stderr",
     "output_type": "stream",
     "text": [
      "/home/christopher/mc/lib/python3.7/site-packages/ipykernel/ipkernel.py:287: DeprecationWarning: `should_run_async` will not call `transform_cell` automatically in the future. Please pass the result to `transformed_cell` argument and any exception that happen during thetransform in `preprocessing_exc_tuple` in IPython 7.17 and above.\n",
      "  and should_run_async(code)\n"
     ]
    }
   ],
   "source": [
    "df = pd.read_csv('https://raw.githubusercontent.com/regro/cf-graph-countyfair/master/audits/depfinder_accuracy.csv')"
   ]
  },
  {
   "cell_type": "code",
   "execution_count": 3,
   "metadata": {},
   "outputs": [],
   "source": [
    "df['time'] = pd.to_datetime(df['time'].values, unit='s')"
   ]
  },
  {
   "cell_type": "code",
   "execution_count": 4,
   "metadata": {},
   "outputs": [
    {
     "data": {
      "text/html": [
       "<div>\n",
       "<style scoped>\n",
       "    .dataframe tbody tr th:only-of-type {\n",
       "        vertical-align: middle;\n",
       "    }\n",
       "\n",
       "    .dataframe tbody tr th {\n",
       "        vertical-align: top;\n",
       "    }\n",
       "\n",
       "    .dataframe thead th {\n",
       "        text-align: right;\n",
       "    }\n",
       "</style>\n",
       "<table border=\"1\" class=\"dataframe\">\n",
       "  <thead>\n",
       "    <tr style=\"text-align: right;\">\n",
       "      <th></th>\n",
       "      <th>time</th>\n",
       "      <th>accurate</th>\n",
       "      <th>cf_over_specified</th>\n",
       "      <th>cf_under_specified</th>\n",
       "      <th>cf_over_and_under_specified</th>\n",
       "      <th>errored</th>\n",
       "      <th>definder_version</th>\n",
       "      <th>audit_creation_version</th>\n",
       "    </tr>\n",
       "  </thead>\n",
       "  <tbody>\n",
       "    <tr>\n",
       "      <th>98</th>\n",
       "      <td>2020-11-25 00:58:38.637064219</td>\n",
       "      <td>399</td>\n",
       "      <td>65</td>\n",
       "      <td>258</td>\n",
       "      <td>113</td>\n",
       "      <td>25</td>\n",
       "      <td>2.7.0</td>\n",
       "      <td>3</td>\n",
       "    </tr>\n",
       "    <tr>\n",
       "      <th>99</th>\n",
       "      <td>2020-11-25 01:23:02.457967043</td>\n",
       "      <td>7</td>\n",
       "      <td>5</td>\n",
       "      <td>6</td>\n",
       "      <td>4</td>\n",
       "      <td>1</td>\n",
       "      <td>2.7.0</td>\n",
       "      <td>4</td>\n",
       "    </tr>\n",
       "    <tr>\n",
       "      <th>100</th>\n",
       "      <td>2020-11-25 02:10:04.259888411</td>\n",
       "      <td>30</td>\n",
       "      <td>5</td>\n",
       "      <td>15</td>\n",
       "      <td>6</td>\n",
       "      <td>1</td>\n",
       "      <td>2.7.0</td>\n",
       "      <td>4</td>\n",
       "    </tr>\n",
       "    <tr>\n",
       "      <th>101</th>\n",
       "      <td>2020-11-25 12:10:26.619964361</td>\n",
       "      <td>2907</td>\n",
       "      <td>796</td>\n",
       "      <td>1845</td>\n",
       "      <td>975</td>\n",
       "      <td>280</td>\n",
       "      <td>2.7.0</td>\n",
       "      <td>4</td>\n",
       "    </tr>\n",
       "    <tr>\n",
       "      <th>102</th>\n",
       "      <td>2020-11-25 13:08:10.396087408</td>\n",
       "      <td>2907</td>\n",
       "      <td>796</td>\n",
       "      <td>1845</td>\n",
       "      <td>975</td>\n",
       "      <td>280</td>\n",
       "      <td>2.7.0</td>\n",
       "      <td>4</td>\n",
       "    </tr>\n",
       "  </tbody>\n",
       "</table>\n",
       "</div>"
      ],
      "text/plain": [
       "                             time  accurate  cf_over_specified  \\\n",
       "98  2020-11-25 00:58:38.637064219       399                 65   \n",
       "99  2020-11-25 01:23:02.457967043         7                  5   \n",
       "100 2020-11-25 02:10:04.259888411        30                  5   \n",
       "101 2020-11-25 12:10:26.619964361      2907                796   \n",
       "102 2020-11-25 13:08:10.396087408      2907                796   \n",
       "\n",
       "     cf_under_specified  cf_over_and_under_specified  errored  \\\n",
       "98                  258                          113       25   \n",
       "99                    6                            4        1   \n",
       "100                  15                            6        1   \n",
       "101                1845                          975      280   \n",
       "102                1845                          975      280   \n",
       "\n",
       "    definder_version  audit_creation_version  \n",
       "98             2.7.0                       3  \n",
       "99             2.7.0                       4  \n",
       "100            2.7.0                       4  \n",
       "101            2.7.0                       4  \n",
       "102            2.7.0                       4  "
      ]
     },
     "execution_count": 4,
     "metadata": {},
     "output_type": "execute_result"
    }
   ],
   "source": [
    "df.tail()"
   ]
  },
  {
   "cell_type": "code",
   "execution_count": 5,
   "metadata": {},
   "outputs": [
    {
     "name": "stderr",
     "output_type": "stream",
     "text": [
      "/home/christopher/mc/lib/python3.7/site-packages/ipykernel/ipkernel.py:287: DeprecationWarning: `should_run_async` will not call `transform_cell` automatically in the future. Please pass the result to `transformed_cell` argument and any exception that happen during thetransform in `preprocessing_exc_tuple` in IPython 7.17 and above.\n",
      "  and should_run_async(code)\n"
     ]
    }
   ],
   "source": [
    "df = df.set_index('time').drop(columns=['audit_creation_version', 'definder_version'])"
   ]
  },
  {
   "cell_type": "code",
   "execution_count": 6,
   "metadata": {},
   "outputs": [],
   "source": [
    "df2 = df.copy().div(df.sum(axis=1), axis=0) * 100"
   ]
  },
  {
   "cell_type": "code",
   "execution_count": 7,
   "metadata": {},
   "outputs": [
    {
     "data": {
      "image/png": "[encoded data removed]",
      "text/plain": [
       "<Figure size 432x288 with 1 Axes>"
      ]
     },
     "metadata": {
      "needs_background": "light"
     },
     "output_type": "display_data"
    }
   ],
   "source": [
    "ax = df2.plot.area(title='overall accuracy')"
   ]
  },
  {
   "cell_type": "code",
   "execution_count": 8,
   "metadata": {},
   "outputs": [
    {
     "name": "stderr",
     "output_type": "stream",
     "text": [
      "/home/christopher/mc/lib/python3.7/site-packages/ipykernel/ipkernel.py:287: DeprecationWarning: `should_run_async` will not call `transform_cell` automatically in the future. Please pass the result to `transformed_cell` argument and any exception that happen during thetransform in `preprocessing_exc_tuple` in IPython 7.17 and above.\n",
      "  and should_run_async(code)\n"
     ]
    },
    {
     "data": {
      "text/html": [
       "<div>\n",
       "<style scoped>\n",
       "    .dataframe tbody tr th:only-of-type {\n",
       "        vertical-align: middle;\n",
       "    }\n",
       "\n",
       "    .dataframe tbody tr th {\n",
       "        vertical-align: top;\n",
       "    }\n",
       "\n",
       "    .dataframe thead th {\n",
       "        text-align: right;\n",
       "    }\n",
       "</style>\n",
       "<table border=\"1\" class=\"dataframe\">\n",
       "  <thead>\n",
       "    <tr style=\"text-align: right;\">\n",
       "      <th></th>\n",
       "      <th>accurate</th>\n",
       "      <th>cf_over_specified</th>\n",
       "      <th>cf_under_specified</th>\n",
       "      <th>cf_over_and_under_specified</th>\n",
       "      <th>errored</th>\n",
       "    </tr>\n",
       "    <tr>\n",
       "      <th>time</th>\n",
       "      <th></th>\n",
       "      <th></th>\n",
       "      <th></th>\n",
       "      <th></th>\n",
       "      <th></th>\n",
       "    </tr>\n",
       "  </thead>\n",
       "  <tbody>\n",
       "    <tr>\n",
       "      <th>2020-11-25 00:58:38.637064219</th>\n",
       "      <td>46.395349</td>\n",
       "      <td>7.55814</td>\n",
       "      <td>30.000000</td>\n",
       "      <td>13.139535</td>\n",
       "      <td>2.906977</td>\n",
       "    </tr>\n",
       "    <tr>\n",
       "      <th>2020-11-25 01:23:02.457967043</th>\n",
       "      <td>30.434783</td>\n",
       "      <td>21.73913</td>\n",
       "      <td>26.086957</td>\n",
       "      <td>17.391304</td>\n",
       "      <td>4.347826</td>\n",
       "    </tr>\n",
       "    <tr>\n",
       "      <th>2020-11-25 02:10:04.259888411</th>\n",
       "      <td>52.631579</td>\n",
       "      <td>8.77193</td>\n",
       "      <td>26.315789</td>\n",
       "      <td>10.526316</td>\n",
       "      <td>1.754386</td>\n",
       "    </tr>\n",
       "    <tr>\n",
       "      <th>2020-11-25 12:10:26.619964361</th>\n",
       "      <td>42.731148</td>\n",
       "      <td>11.70072</td>\n",
       "      <td>27.120388</td>\n",
       "      <td>14.331912</td>\n",
       "      <td>4.115831</td>\n",
       "    </tr>\n",
       "    <tr>\n",
       "      <th>2020-11-25 13:08:10.396087408</th>\n",
       "      <td>42.731148</td>\n",
       "      <td>11.70072</td>\n",
       "      <td>27.120388</td>\n",
       "      <td>14.331912</td>\n",
       "      <td>4.115831</td>\n",
       "    </tr>\n",
       "  </tbody>\n",
       "</table>\n",
       "</div>"
      ],
      "text/plain": [
       "                                accurate  cf_over_specified  \\\n",
       "time                                                          \n",
       "2020-11-25 00:58:38.637064219  46.395349            7.55814   \n",
       "2020-11-25 01:23:02.457967043  30.434783           21.73913   \n",
       "2020-11-25 02:10:04.259888411  52.631579            8.77193   \n",
       "2020-11-25 12:10:26.619964361  42.731148           11.70072   \n",
       "2020-11-25 13:08:10.396087408  42.731148           11.70072   \n",
       "\n",
       "                               cf_under_specified  \\\n",
       "time                                                \n",
       "2020-11-25 00:58:38.637064219           30.000000   \n",
       "2020-11-25 01:23:02.457967043           26.086957   \n",
       "2020-11-25 02:10:04.259888411           26.315789   \n",
       "2020-11-25 12:10:26.619964361           27.120388   \n",
       "2020-11-25 13:08:10.396087408           27.120388   \n",
       "\n",
       "                               cf_over_and_under_specified   errored  \n",
       "time                                                                  \n",
       "2020-11-25 00:58:38.637064219                    13.139535  2.906977  \n",
       "2020-11-25 01:23:02.457967043                    17.391304  4.347826  \n",
       "2020-11-25 02:10:04.259888411                    10.526316  1.754386  \n",
       "2020-11-25 12:10:26.619964361                    14.331912  4.115831  \n",
       "2020-11-25 13:08:10.396087408                    14.331912  4.115831  "
      ]
     },
     "execution_count": 8,
     "metadata": {},
     "output_type": "execute_result"
    }
   ],
   "source": [
    "df2.tail()"
   ]
  },
  {
   "cell_type": "code",
   "execution_count": 9,
   "metadata": {},
   "outputs": [
    {
     "name": "stderr",
     "output_type": "stream",
     "text": [
      "/home/christopher/mc/lib/python3.7/site-packages/ipykernel/ipkernel.py:287: DeprecationWarning: `should_run_async` will not call `transform_cell` automatically in the future. Please pass the result to `transformed_cell` argument and any exception that happen during thetransform in `preprocessing_exc_tuple` in IPython 7.17 and above.\n",
      "  and should_run_async(code)\n"
     ]
    }
   ],
   "source": [
    "audit = loads(requests.get('https://raw.githubusercontent.com/regro/cf-graph-countyfair/master/audits/depfinder/_net_audit.json').text)"
   ]
  },
  {
   "cell_type": "code",
   "execution_count": 10,
   "metadata": {},
   "outputs": [
    {
     "data": {
      "text/plain": [
       "6803"
      ]
     },
     "execution_count": 10,
     "metadata": {},
     "output_type": "execute_result"
    }
   ],
   "source": [
    "len(audit)"
   ]
  },
  {
   "cell_type": "code",
   "execution_count": 11,
   "metadata": {},
   "outputs": [],
   "source": [
    "df_minus_cf = {k: v['df_minus_cf'] for k, v in audit.items() if v and 'df_minus_cf' in v}"
   ]
  },
  {
   "cell_type": "code",
   "execution_count": 12,
   "metadata": {},
   "outputs": [
    {
     "data": {
      "text/plain": [
       "(7644, 2820)"
      ]
     },
     "execution_count": 12,
     "metadata": {},
     "output_type": "execute_result"
    }
   ],
   "source": [
    "df_minus_cf_counts = [len(v) for v in df_minus_cf.values()]\n",
    "sum(df_minus_cf_counts), len(df_minus_cf)"
   ]
  },
  {
   "cell_type": "code",
   "execution_count": 13,
   "metadata": {},
   "outputs": [
    {
     "data": {
      "text/plain": [
       "Text(0.5, 1.0, 'Number of feedstock missing N pkgs')"
      ]
     },
     "execution_count": 13,
     "metadata": {},
     "output_type": "execute_result"
    },
    {
     "data": {
      "image/png": "[encoded data removed]",
      "text/plain": [
       "<Figure size 432x288 with 1 Axes>"
      ]
     },
     "metadata": {
      "needs_background": "light"
     },
     "output_type": "display_data"
    }
   ],
   "source": [
    "plt.hist(df_minus_cf_counts, bins=range(10), align='left')\n",
    "plt.title('Number of feedstock missing N pkgs')"
   ]
  },
  {
   "cell_type": "code",
   "execution_count": 14,
   "metadata": {},
   "outputs": [],
   "source": [
    "df_minus_cf_pkgs = [vv for v in df_minus_cf.values() for vv in v]"
   ]
  },
  {
   "cell_type": "code",
   "execution_count": 15,
   "metadata": {},
   "outputs": [],
   "source": [
    "# the most common pkgs that are missing"
   ]
  },
  {
   "cell_type": "code",
   "execution_count": 16,
   "metadata": {},
   "outputs": [
    {
     "data": {
      "text/plain": [
       "[('numpy', 428),\n",
       " ('pytest', 260),\n",
       " ('six', 233),\n",
       " ('matplotlib', 228),\n",
       " ('scipy', 165),\n",
       " ('requests', 164),\n",
       " ('pandas', 163),\n",
       " ('pyyaml', 125),\n",
       " ('ipython', 117),\n",
       " ('traitlets', 117)]"
      ]
     },
     "execution_count": 16,
     "metadata": {},
     "output_type": "execute_result"
    }
   ],
   "source": [
    "Counter(df_minus_cf_pkgs).most_common(10)"
   ]
  },
  {
   "cell_type": "code",
   "execution_count": 17,
   "metadata": {},
   "outputs": [],
   "source": [
    "cf_minus_df = {k: v['cf_minus_df'] for k, v in audit.items() if v and 'cf_minus_df' in v}"
   ]
  },
  {
   "cell_type": "code",
   "execution_count": 18,
   "metadata": {},
   "outputs": [
    {
     "data": {
      "text/plain": [
       "3557"
      ]
     },
     "execution_count": 18,
     "metadata": {},
     "output_type": "execute_result"
    }
   ],
   "source": [
    "cf_minus_df_counts = [len(v) for v in cf_minus_df.values()]\n",
    "sum(cf_minus_df_counts)"
   ]
  },
  {
   "cell_type": "code",
   "execution_count": 19,
   "metadata": {
    "scrolled": true
   },
   "outputs": [
    {
     "data": {
      "text/plain": [
       "Text(0.5, 1.0, 'Number of feedstock with too many N pkgs')"
      ]
     },
     "execution_count": 19,
     "metadata": {},
     "output_type": "execute_result"
    },
    {
     "data": {
      "image/png": "[encoded data removed]",
      "text/plain": [
       "<Figure size 432x288 with 1 Axes>"
      ]
     },
     "metadata": {
      "needs_background": "light"
     },
     "output_type": "display_data"
    }
   ],
   "source": [
    "plt.hist(cf_minus_df_counts, bins=range(10), align='left')\n",
    "plt.title('Number of feedstock with too many N pkgs')"
   ]
  },
  {
   "cell_type": "code",
   "execution_count": 20,
   "metadata": {},
   "outputs": [],
   "source": [
    "cf_minus_df_pkgs = [vv for v in cf_minus_df.values() for vv in v]"
   ]
  },
  {
   "cell_type": "code",
   "execution_count": 21,
   "metadata": {},
   "outputs": [],
   "source": [
    "# the most common pkgs too many"
   ]
  },
  {
   "cell_type": "code",
   "execution_count": 22,
   "metadata": {
    "scrolled": true
   },
   "outputs": [
    {
     "data": {
      "text/plain": [
       "[('six', 111),\n",
       " ('future', 79),\n",
       " ('numpy', 76),\n",
       " ('scipy', 74),\n",
       " ('pytest', 56),\n",
       " ('requests', 46),\n",
       " ('matplotlib-base', 43),\n",
       " ('jupyter', 36),\n",
       " ('boost', 36),\n",
       " ('netcdf4', 35)]"
      ]
     },
     "execution_count": 22,
     "metadata": {},
     "output_type": "execute_result"
    }
   ],
   "source": [
    "Counter(cf_minus_df_pkgs).most_common(10)"
   ]
  },
  {
   "cell_type": "code",
   "execution_count": 23,
   "metadata": {},
   "outputs": [],
   "source": [
    "single_df_minus_cf = {k: next(iter(v)) for k, v in df_minus_cf.items() if len(v) == 1}"
   ]
  },
  {
   "cell_type": "code",
   "execution_count": 24,
   "metadata": {},
   "outputs": [],
   "source": [
    "# the most common pkgs that are the only pkg too few"
   ]
  },
  {
   "cell_type": "code",
   "execution_count": 25,
   "metadata": {},
   "outputs": [
    {
     "data": {
      "text/plain": [
       "[('numpy', 109),\n",
       " ('pytest', 93),\n",
       " ('six', 51),\n",
       " ('cython', 43),\n",
       " ('matplotlib', 31),\n",
       " ('traitlets', 30),\n",
       " ('django', 24),\n",
       " ('werkzeug', 24),\n",
       " ('docutils', 23),\n",
       " ('py', 23)]"
      ]
     },
     "execution_count": 25,
     "metadata": {},
     "output_type": "execute_result"
    }
   ],
   "source": [
    "Counter(single_df_minus_cf.values()).most_common(10)"
   ]
  },
  {
   "cell_type": "code",
   "execution_count": 26,
   "metadata": {},
   "outputs": [],
   "source": [
    "single_cf_minus_df = {k: next(iter(v)) for k, v in cf_minus_df.items() if len(v) == 1}"
   ]
  },
  {
   "cell_type": "code",
   "execution_count": 27,
   "metadata": {},
   "outputs": [],
   "source": [
    "# the most common pkgs that are the only pkg too many"
   ]
  },
  {
   "cell_type": "code",
   "execution_count": 28,
   "metadata": {},
   "outputs": [
    {
     "data": {
      "text/plain": [
       "[('six', 69),\n",
       " ('future', 44),\n",
       " ('scipy', 32),\n",
       " ('numpy', 29),\n",
       " ('requests', 20),\n",
       " ('boost', 19),\n",
       " ('pytest', 17),\n",
       " ('matplotlib-base', 17),\n",
       " ('pyqt', 13),\n",
       " ('lxml', 13)]"
      ]
     },
     "execution_count": 28,
     "metadata": {},
     "output_type": "execute_result"
    }
   ],
   "source": [
    "Counter(single_cf_minus_df.values()).most_common(10)"
   ]
  },
  {
   "cell_type": "code",
   "execution_count": 29,
   "metadata": {},
   "outputs": [],
   "source": [
    "# the most common pkgs that are the only 2 pkgs too many"
   ]
  },
  {
   "cell_type": "code",
   "execution_count": 30,
   "metadata": {},
   "outputs": [],
   "source": [
    "double_df_minus_cf = [vv for k, v in df_minus_cf.items() if len(v) == 2 for vv in v]"
   ]
  },
  {
   "cell_type": "code",
   "execution_count": 31,
   "metadata": {},
   "outputs": [
    {
     "data": {
      "text/plain": [
       "[('numpy', 96),\n",
       " ('pytest', 58),\n",
       " ('six', 51),\n",
       " ('matplotlib', 48),\n",
       " ('requests', 37),\n",
       " ('scipy', 32),\n",
       " ('pyyaml', 29),\n",
       " ('traitlets', 29),\n",
       " ('ipython', 29),\n",
       " ('tornado', 23)]"
      ]
     },
     "execution_count": 31,
     "metadata": {},
     "output_type": "execute_result"
    }
   ],
   "source": [
    "Counter(double_df_minus_cf).most_common(10)"
   ]
  },
  {
   "cell_type": "code",
   "execution_count": 32,
   "metadata": {},
   "outputs": [],
   "source": [
    "audits2 = {}\n",
    "for k, v in audit.items():\n",
    "    if v:\n",
    "        audits2[k] = {}\n",
    "        for kk, vv in v.items():\n",
    "            if kk in ['cf_minus_df', 'df_minus_cf']:\n",
    "                z = vv - {'matplotlib', 'matplotlib-base', 'pytest'}\n",
    "                _ = {kk: z}\n",
    "                if z:\n",
    "                    audits2[k].update(_)\n",
    "    else:\n",
    "        audits2[k] = False"
   ]
  },
  {
   "cell_type": "code",
   "execution_count": 33,
   "metadata": {},
   "outputs": [],
   "source": [
    "df_minus_cf = {k: v['df_minus_cf'] for k, v in audits2.items() if v and 'df_minus_cf' in v}"
   ]
  },
  {
   "cell_type": "code",
   "execution_count": 34,
   "metadata": {},
   "outputs": [
    {
     "data": {
      "text/plain": [
       "(7156, 2695)"
      ]
     },
     "execution_count": 34,
     "metadata": {},
     "output_type": "execute_result"
    }
   ],
   "source": [
    "df_minus_cf_counts = [len(v) for v in df_minus_cf.values()]\n",
    "sum(df_minus_cf_counts), len(df_minus_cf)"
   ]
  },
  {
   "cell_type": "code",
   "execution_count": 35,
   "metadata": {},
   "outputs": [
    {
     "data": {
      "text/plain": [
       "Text(0.5, 1.0, 'Number of feedstock missing N pkgs')"
      ]
     },
     "execution_count": 35,
     "metadata": {},
     "output_type": "execute_result"
    },
    {
     "data": {
      "image/png": "[encoded data removed]",
      "text/plain": [
       "<Figure size 432x288 with 1 Axes>"
      ]
     },
     "metadata": {
      "needs_background": "light"
     },
     "output_type": "display_data"
    }
   ],
   "source": [
    "plt.hist(df_minus_cf_counts, bins=range(10), align='left')\n",
    "plt.title('Number of feedstock missing N pkgs')"
   ]
  },
  {
   "cell_type": "code",
   "execution_count": null,
   "metadata": {},
   "outputs": [],
   "source": []
  }
 ],
 "metadata": {
  "kernelspec": {
   "display_name": "Python 3",
   "language": "python",
   "name": "python3"
  },
  "language_info": {
   "codemirror_mode": {
    "name": "ipython",
    "version": 3
   },
   "file_extension": ".py",
   "mimetype": "text/x-python",
   "name": "python",
   "nbconvert_exporter": "python",
   "pygments_lexer": "ipython3",
   "version": "3.7.8"
  }
 },
 "nbformat": 4,
 "nbformat_minor": 4
}
