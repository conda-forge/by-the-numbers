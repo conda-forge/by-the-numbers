{
 "cells": [
  {
   "cell_type": "code",
   "execution_count": 1,
   "metadata": {},
   "outputs": [
    {
     "name": "stderr",
     "output_type": "stream",
     "text": [
      "/home/christopher/mc/lib/python3.7/site-packages/github3/session.py:3: DeprecationWarning: Using or importing the ABCs from 'collections' instead of from 'collections.abc' is deprecated since Python 3.3,and in 3.9 it will stop working\n",
      "  from collections import Callable\n",
      "/home/christopher/mc/lib/python3.7/site-packages/github3/structs.py:11: DeprecationWarning: Using or importing the ABCs from 'collections' instead of from 'collections.abc' is deprecated since Python 3.3,and in 3.9 it will stop working\n",
      "  class GitHubIterator(models.GitHubCore, collections.Iterator):\n"
     ]
    }
   ],
   "source": [
    "import pandas as pd\n",
    "import requests\n",
    "from conda_forge_tick.utils import loads\n",
    "from collections import Counter\n",
    "import matplotlib.pyplot as plt"
   ]
  },
  {
   "cell_type": "code",
   "execution_count": 2,
   "metadata": {},
   "outputs": [
    {
     "name": "stderr",
     "output_type": "stream",
     "text": [
      "/home/christopher/mc/lib/python3.7/site-packages/ipykernel/ipkernel.py:287: DeprecationWarning: `should_run_async` will not call `transform_cell` automatically in the future. Please pass the result to `transformed_cell` argument and any exception that happen during thetransform in `preprocessing_exc_tuple` in IPython 7.17 and above.\n",
      "  and should_run_async(code)\n"
     ]
    }
   ],
   "source": [
    "df = pd.read_csv('https://raw.githubusercontent.com/regro/cf-graph-countyfair/master/audits/depfinder_accuracy.csv')"
   ]
  },
  {
   "cell_type": "code",
   "execution_count": 3,
   "metadata": {},
   "outputs": [],
   "source": [
    "df['time'] = pd.to_datetime(df['time'].values, unit='s')"
   ]
  },
  {
   "cell_type": "code",
   "execution_count": 4,
   "metadata": {},
   "outputs": [
    {
     "data": {
      "text/html": [
       "<div>\n",
       "<style scoped>\n",
       "    .dataframe tbody tr th:only-of-type {\n",
       "        vertical-align: middle;\n",
       "    }\n",
       "\n",
       "    .dataframe tbody tr th {\n",
       "        vertical-align: top;\n",
       "    }\n",
       "\n",
       "    .dataframe thead th {\n",
       "        text-align: right;\n",
       "    }\n",
       "</style>\n",
       "<table border=\"1\" class=\"dataframe\">\n",
       "  <thead>\n",
       "    <tr style=\"text-align: right;\">\n",
       "      <th></th>\n",
       "      <th>time</th>\n",
       "      <th>accurate</th>\n",
       "      <th>cf_over_specified</th>\n",
       "      <th>cf_under_specified</th>\n",
       "      <th>cf_over_and_under_specified</th>\n",
       "      <th>errored</th>\n",
       "      <th>definder_version</th>\n",
       "      <th>audit_creation_version</th>\n",
       "    </tr>\n",
       "  </thead>\n",
       "  <tbody>\n",
       "    <tr>\n",
       "      <th>242</th>\n",
       "      <td>2020-12-01 09:10:19.840078592</td>\n",
       "      <td>2920</td>\n",
       "      <td>798</td>\n",
       "      <td>1854</td>\n",
       "      <td>983</td>\n",
       "      <td>276</td>\n",
       "      <td>2.7.0</td>\n",
       "      <td>4</td>\n",
       "    </tr>\n",
       "    <tr>\n",
       "      <th>243</th>\n",
       "      <td>2020-12-01 10:10:06.961130142</td>\n",
       "      <td>2921</td>\n",
       "      <td>798</td>\n",
       "      <td>1854</td>\n",
       "      <td>983</td>\n",
       "      <td>276</td>\n",
       "      <td>2.7.0</td>\n",
       "      <td>4</td>\n",
       "    </tr>\n",
       "    <tr>\n",
       "      <th>244</th>\n",
       "      <td>2020-12-01 11:08:15.784851551</td>\n",
       "      <td>2921</td>\n",
       "      <td>798</td>\n",
       "      <td>1854</td>\n",
       "      <td>983</td>\n",
       "      <td>276</td>\n",
       "      <td>2.7.0</td>\n",
       "      <td>4</td>\n",
       "    </tr>\n",
       "    <tr>\n",
       "      <th>245</th>\n",
       "      <td>2020-12-01 12:10:21.701864958</td>\n",
       "      <td>2921</td>\n",
       "      <td>798</td>\n",
       "      <td>1854</td>\n",
       "      <td>983</td>\n",
       "      <td>276</td>\n",
       "      <td>2.7.0</td>\n",
       "      <td>4</td>\n",
       "    </tr>\n",
       "    <tr>\n",
       "      <th>246</th>\n",
       "      <td>2020-12-01 13:08:23.680642605</td>\n",
       "      <td>2921</td>\n",
       "      <td>798</td>\n",
       "      <td>1854</td>\n",
       "      <td>983</td>\n",
       "      <td>276</td>\n",
       "      <td>2.7.0</td>\n",
       "      <td>4</td>\n",
       "    </tr>\n",
       "  </tbody>\n",
       "</table>\n",
       "</div>"
      ],
      "text/plain": [
       "                             time  accurate  cf_over_specified  \\\n",
       "242 2020-12-01 09:10:19.840078592      2920                798   \n",
       "243 2020-12-01 10:10:06.961130142      2921                798   \n",
       "244 2020-12-01 11:08:15.784851551      2921                798   \n",
       "245 2020-12-01 12:10:21.701864958      2921                798   \n",
       "246 2020-12-01 13:08:23.680642605      2921                798   \n",
       "\n",
       "     cf_under_specified  cf_over_and_under_specified  errored  \\\n",
       "242                1854                          983      276   \n",
       "243                1854                          983      276   \n",
       "244                1854                          983      276   \n",
       "245                1854                          983      276   \n",
       "246                1854                          983      276   \n",
       "\n",
       "    definder_version  audit_creation_version  \n",
       "242            2.7.0                       4  \n",
       "243            2.7.0                       4  \n",
       "244            2.7.0                       4  \n",
       "245            2.7.0                       4  \n",
       "246            2.7.0                       4  "
      ]
     },
     "execution_count": 4,
     "metadata": {},
     "output_type": "execute_result"
    }
   ],
   "source": [
    "df.tail()"
   ]
  },
  {
   "cell_type": "code",
   "execution_count": 5,
   "metadata": {},
   "outputs": [
    {
     "name": "stderr",
     "output_type": "stream",
     "text": [
      "/home/christopher/mc/lib/python3.7/site-packages/ipykernel/ipkernel.py:287: DeprecationWarning: `should_run_async` will not call `transform_cell` automatically in the future. Please pass the result to `transformed_cell` argument and any exception that happen during thetransform in `preprocessing_exc_tuple` in IPython 7.17 and above.\n",
      "  and should_run_async(code)\n"
     ]
    }
   ],
   "source": [
    "df = df.set_index('time').drop(columns=['audit_creation_version', 'definder_version'])"
   ]
  },
  {
   "cell_type": "code",
   "execution_count": 6,
   "metadata": {},
   "outputs": [],
   "source": [
    "df2 = df.copy().div(df.sum(axis=1), axis=0) * 100"
   ]
  },
  {
   "cell_type": "code",
   "execution_count": 7,
   "metadata": {},
   "outputs": [
    {
     "data": {
      "image/png": "[encoded data removed]",
      "text/plain": [
       "<Figure size 432x288 with 1 Axes>"
      ]
     },
     "metadata": {
      "needs_background": "light"
     },
     "output_type": "display_data"
    }
   ],
   "source": [
    "ax = df2.plot.area(title='overall accuracy')"
   ]
  },
  {
   "cell_type": "code",
   "execution_count": 8,
   "metadata": {},
   "outputs": [
    {
     "name": "stderr",
     "output_type": "stream",
     "text": [
      "/home/christopher/mc/lib/python3.7/site-packages/ipykernel/ipkernel.py:287: DeprecationWarning: `should_run_async` will not call `transform_cell` automatically in the future. Please pass the result to `transformed_cell` argument and any exception that happen during thetransform in `preprocessing_exc_tuple` in IPython 7.17 and above.\n",
      "  and should_run_async(code)\n"
     ]
    },
    {
     "data": {
      "text/html": [
       "<div>\n",
       "<style scoped>\n",
       "    .dataframe tbody tr th:only-of-type {\n",
       "        vertical-align: middle;\n",
       "    }\n",
       "\n",
       "    .dataframe tbody tr th {\n",
       "        vertical-align: top;\n",
       "    }\n",
       "\n",
       "    .dataframe thead th {\n",
       "        text-align: right;\n",
       "    }\n",
       "</style>\n",
       "<table border=\"1\" class=\"dataframe\">\n",
       "  <thead>\n",
       "    <tr style=\"text-align: right;\">\n",
       "      <th></th>\n",
       "      <th>accurate</th>\n",
       "      <th>cf_over_specified</th>\n",
       "      <th>cf_under_specified</th>\n",
       "      <th>cf_over_and_under_specified</th>\n",
       "      <th>errored</th>\n",
       "    </tr>\n",
       "    <tr>\n",
       "      <th>time</th>\n",
       "      <th></th>\n",
       "      <th></th>\n",
       "      <th></th>\n",
       "      <th></th>\n",
       "      <th></th>\n",
       "    </tr>\n",
       "  </thead>\n",
       "  <tbody>\n",
       "    <tr>\n",
       "      <th>2020-12-01 09:10:19.840078592</th>\n",
       "      <td>42.746304</td>\n",
       "      <td>11.682038</td>\n",
       "      <td>27.140975</td>\n",
       "      <td>14.390280</td>\n",
       "      <td>4.040404</td>\n",
       "    </tr>\n",
       "    <tr>\n",
       "      <th>2020-12-01 10:10:06.961130142</th>\n",
       "      <td>42.754684</td>\n",
       "      <td>11.680328</td>\n",
       "      <td>27.137002</td>\n",
       "      <td>14.388173</td>\n",
       "      <td>4.039813</td>\n",
       "    </tr>\n",
       "    <tr>\n",
       "      <th>2020-12-01 11:08:15.784851551</th>\n",
       "      <td>42.754684</td>\n",
       "      <td>11.680328</td>\n",
       "      <td>27.137002</td>\n",
       "      <td>14.388173</td>\n",
       "      <td>4.039813</td>\n",
       "    </tr>\n",
       "    <tr>\n",
       "      <th>2020-12-01 12:10:21.701864958</th>\n",
       "      <td>42.754684</td>\n",
       "      <td>11.680328</td>\n",
       "      <td>27.137002</td>\n",
       "      <td>14.388173</td>\n",
       "      <td>4.039813</td>\n",
       "    </tr>\n",
       "    <tr>\n",
       "      <th>2020-12-01 13:08:23.680642605</th>\n",
       "      <td>42.754684</td>\n",
       "      <td>11.680328</td>\n",
       "      <td>27.137002</td>\n",
       "      <td>14.388173</td>\n",
       "      <td>4.039813</td>\n",
       "    </tr>\n",
       "  </tbody>\n",
       "</table>\n",
       "</div>"
      ],
      "text/plain": [
       "                                accurate  cf_over_specified  \\\n",
       "time                                                          \n",
       "2020-12-01 09:10:19.840078592  42.746304          11.682038   \n",
       "2020-12-01 10:10:06.961130142  42.754684          11.680328   \n",
       "2020-12-01 11:08:15.784851551  42.754684          11.680328   \n",
       "2020-12-01 12:10:21.701864958  42.754684          11.680328   \n",
       "2020-12-01 13:08:23.680642605  42.754684          11.680328   \n",
       "\n",
       "                               cf_under_specified  \\\n",
       "time                                                \n",
       "2020-12-01 09:10:19.840078592           27.140975   \n",
       "2020-12-01 10:10:06.961130142           27.137002   \n",
       "2020-12-01 11:08:15.784851551           27.137002   \n",
       "2020-12-01 12:10:21.701864958           27.137002   \n",
       "2020-12-01 13:08:23.680642605           27.137002   \n",
       "\n",
       "                               cf_over_and_under_specified   errored  \n",
       "time                                                                  \n",
       "2020-12-01 09:10:19.840078592                    14.390280  4.040404  \n",
       "2020-12-01 10:10:06.961130142                    14.388173  4.039813  \n",
       "2020-12-01 11:08:15.784851551                    14.388173  4.039813  \n",
       "2020-12-01 12:10:21.701864958                    14.388173  4.039813  \n",
       "2020-12-01 13:08:23.680642605                    14.388173  4.039813  "
      ]
     },
     "execution_count": 8,
     "metadata": {},
     "output_type": "execute_result"
    }
   ],
   "source": [
    "df2.tail()"
   ]
  },
  {
   "cell_type": "code",
   "execution_count": 9,
   "metadata": {},
   "outputs": [
    {
     "name": "stderr",
     "output_type": "stream",
     "text": [
      "/home/christopher/mc/lib/python3.7/site-packages/ipykernel/ipkernel.py:287: DeprecationWarning: `should_run_async` will not call `transform_cell` automatically in the future. Please pass the result to `transformed_cell` argument and any exception that happen during thetransform in `preprocessing_exc_tuple` in IPython 7.17 and above.\n",
      "  and should_run_async(code)\n"
     ]
    }
   ],
   "source": [
    "audit = loads(requests.get('https://raw.githubusercontent.com/regro/cf-graph-countyfair/master/audits/depfinder/_net_audit.json').text)"
   ]
  },
  {
   "cell_type": "code",
   "execution_count": 10,
   "metadata": {},
   "outputs": [
    {
     "data": {
      "text/plain": [
       "6832"
      ]
     },
     "execution_count": 10,
     "metadata": {},
     "output_type": "execute_result"
    }
   ],
   "source": [
    "len(audit)"
   ]
  },
  {
   "cell_type": "code",
   "execution_count": 11,
   "metadata": {},
   "outputs": [],
   "source": [
    "df_minus_cf = {k: v['df_minus_cf'] for k, v in audit.items() if v and 'df_minus_cf' in v}"
   ]
  },
  {
   "cell_type": "code",
   "execution_count": 12,
   "metadata": {},
   "outputs": [
    {
     "data": {
      "text/plain": [
       "(7698, 2837)"
      ]
     },
     "execution_count": 12,
     "metadata": {},
     "output_type": "execute_result"
    }
   ],
   "source": [
    "df_minus_cf_counts = [len(v) for v in df_minus_cf.values()]\n",
    "sum(df_minus_cf_counts), len(df_minus_cf)"
   ]
  },
  {
   "cell_type": "code",
   "execution_count": 13,
   "metadata": {},
   "outputs": [
    {
     "data": {
      "text/plain": [
       "Text(0.5, 1.0, 'Number of feedstock missing N pkgs')"
      ]
     },
     "execution_count": 13,
     "metadata": {},
     "output_type": "execute_result"
    },
    {
     "data": {
      "image/png": "[encoded data removed]",
      "text/plain": [
       "<Figure size 432x288 with 1 Axes>"
      ]
     },
     "metadata": {
      "needs_background": "light"
     },
     "output_type": "display_data"
    }
   ],
   "source": [
    "plt.hist(df_minus_cf_counts, bins=range(10), align='left')\n",
    "plt.title('Number of feedstock missing N pkgs')"
   ]
  },
  {
   "cell_type": "code",
   "execution_count": 14,
   "metadata": {},
   "outputs": [],
   "source": [
    "df_minus_cf_pkgs = [vv for v in df_minus_cf.values() for vv in v]"
   ]
  },
  {
   "cell_type": "code",
   "execution_count": 15,
   "metadata": {},
   "outputs": [],
   "source": [
    "# the most common pkgs that are missing"
   ]
  },
  {
   "cell_type": "code",
   "execution_count": 16,
   "metadata": {},
   "outputs": [
    {
     "data": {
      "text/plain": [
       "[('numpy', 433),\n",
       " ('pytest', 260),\n",
       " ('six', 232),\n",
       " ('matplotlib', 230),\n",
       " ('requests', 168),\n",
       " ('scipy', 164),\n",
       " ('pandas', 162),\n",
       " ('pyyaml', 128),\n",
       " ('ipython', 118),\n",
       " ('traitlets', 117)]"
      ]
     },
     "execution_count": 16,
     "metadata": {},
     "output_type": "execute_result"
    }
   ],
   "source": [
    "Counter(df_minus_cf_pkgs).most_common(10)"
   ]
  },
  {
   "cell_type": "code",
   "execution_count": 17,
   "metadata": {},
   "outputs": [],
   "source": [
    "cf_minus_df = {k: v['cf_minus_df'] for k, v in audit.items() if v and 'cf_minus_df' in v}"
   ]
  },
  {
   "cell_type": "code",
   "execution_count": 18,
   "metadata": {},
   "outputs": [
    {
     "data": {
      "text/plain": [
       "3579"
      ]
     },
     "execution_count": 18,
     "metadata": {},
     "output_type": "execute_result"
    }
   ],
   "source": [
    "cf_minus_df_counts = [len(v) for v in cf_minus_df.values()]\n",
    "sum(cf_minus_df_counts)"
   ]
  },
  {
   "cell_type": "code",
   "execution_count": 19,
   "metadata": {
    "scrolled": true
   },
   "outputs": [
    {
     "data": {
      "text/plain": [
       "Text(0.5, 1.0, 'Number of feedstock with too many N pkgs')"
      ]
     },
     "execution_count": 19,
     "metadata": {},
     "output_type": "execute_result"
    },
    {
     "data": {
      "image/png": "[encoded data removed]",
      "text/plain": [
       "<Figure size 432x288 with 1 Axes>"
      ]
     },
     "metadata": {
      "needs_background": "light"
     },
     "output_type": "display_data"
    }
   ],
   "source": [
    "plt.hist(cf_minus_df_counts, bins=range(10), align='left')\n",
    "plt.title('Number of feedstock with too many N pkgs')"
   ]
  },
  {
   "cell_type": "code",
   "execution_count": 20,
   "metadata": {},
   "outputs": [],
   "source": [
    "cf_minus_df_pkgs = [vv for v in cf_minus_df.values() for vv in v]"
   ]
  },
  {
   "cell_type": "code",
   "execution_count": 21,
   "metadata": {},
   "outputs": [],
   "source": [
    "# the most common pkgs too many"
   ]
  },
  {
   "cell_type": "code",
   "execution_count": 22,
   "metadata": {
    "scrolled": true
   },
   "outputs": [
    {
     "data": {
      "text/plain": [
       "[('six', 113),\n",
       " ('future', 80),\n",
       " ('numpy', 76),\n",
       " ('scipy', 74),\n",
       " ('pytest', 57),\n",
       " ('requests', 46),\n",
       " ('matplotlib-base', 43),\n",
       " ('boost', 36),\n",
       " ('netcdf4', 35),\n",
       " ('pillow', 35)]"
      ]
     },
     "execution_count": 22,
     "metadata": {},
     "output_type": "execute_result"
    }
   ],
   "source": [
    "Counter(cf_minus_df_pkgs).most_common(10)"
   ]
  },
  {
   "cell_type": "code",
   "execution_count": 23,
   "metadata": {},
   "outputs": [],
   "source": [
    "single_df_minus_cf = {k: next(iter(v)) for k, v in df_minus_cf.items() if len(v) == 1}"
   ]
  },
  {
   "cell_type": "code",
   "execution_count": 24,
   "metadata": {},
   "outputs": [],
   "source": [
    "# the most common pkgs that are the only pkg too few"
   ]
  },
  {
   "cell_type": "code",
   "execution_count": 25,
   "metadata": {},
   "outputs": [
    {
     "data": {
      "text/plain": [
       "[('numpy', 111),\n",
       " ('pytest', 93),\n",
       " ('six', 52),\n",
       " ('cython', 43),\n",
       " ('matplotlib', 31),\n",
       " ('traitlets', 30),\n",
       " ('werkzeug', 25),\n",
       " ('django', 24),\n",
       " ('docutils', 23),\n",
       " ('py', 23)]"
      ]
     },
     "execution_count": 25,
     "metadata": {},
     "output_type": "execute_result"
    }
   ],
   "source": [
    "Counter(single_df_minus_cf.values()).most_common(10)"
   ]
  },
  {
   "cell_type": "code",
   "execution_count": 26,
   "metadata": {},
   "outputs": [],
   "source": [
    "single_cf_minus_df = {k: next(iter(v)) for k, v in cf_minus_df.items() if len(v) == 1}"
   ]
  },
  {
   "cell_type": "code",
   "execution_count": 27,
   "metadata": {},
   "outputs": [],
   "source": [
    "# the most common pkgs that are the only pkg too many"
   ]
  },
  {
   "cell_type": "code",
   "execution_count": 28,
   "metadata": {},
   "outputs": [
    {
     "data": {
      "text/plain": [
       "[('six', 71),\n",
       " ('future', 45),\n",
       " ('scipy', 32),\n",
       " ('numpy', 29),\n",
       " ('requests', 20),\n",
       " ('boost', 20),\n",
       " ('pytest', 17),\n",
       " ('matplotlib-base', 17),\n",
       " ('pyqt', 13),\n",
       " ('lxml', 13)]"
      ]
     },
     "execution_count": 28,
     "metadata": {},
     "output_type": "execute_result"
    }
   ],
   "source": [
    "Counter(single_cf_minus_df.values()).most_common(10)"
   ]
  },
  {
   "cell_type": "code",
   "execution_count": 29,
   "metadata": {},
   "outputs": [],
   "source": [
    "# the most common pkgs that are the only 2 pkgs too many"
   ]
  },
  {
   "cell_type": "code",
   "execution_count": 30,
   "metadata": {},
   "outputs": [],
   "source": [
    "double_df_minus_cf = [vv for k, v in df_minus_cf.items() if len(v) == 2 for vv in v]"
   ]
  },
  {
   "cell_type": "code",
   "execution_count": 31,
   "metadata": {},
   "outputs": [
    {
     "data": {
      "text/plain": [
       "[('numpy', 96),\n",
       " ('pytest', 58),\n",
       " ('six', 51),\n",
       " ('matplotlib', 48),\n",
       " ('requests', 37),\n",
       " ('scipy', 31),\n",
       " ('pyyaml', 29),\n",
       " ('traitlets', 29),\n",
       " ('ipython', 29),\n",
       " ('tornado', 23)]"
      ]
     },
     "execution_count": 31,
     "metadata": {},
     "output_type": "execute_result"
    }
   ],
   "source": [
    "Counter(double_df_minus_cf).most_common(10)"
   ]
  },
  {
   "cell_type": "code",
   "execution_count": 32,
   "metadata": {},
   "outputs": [],
   "source": [
    "audits2 = {}\n",
    "for k, v in audit.items():\n",
    "    if v:\n",
    "        audits2[k] = {}\n",
    "        for kk, vv in v.items():\n",
    "            if kk in ['cf_minus_df', 'df_minus_cf']:\n",
    "                z = vv - {'matplotlib', 'matplotlib-base', 'pytest'}\n",
    "                _ = {kk: z}\n",
    "                if z:\n",
    "                    audits2[k].update(_)\n",
    "    else:\n",
    "        audits2[k] = False"
   ]
  },
  {
   "cell_type": "code",
   "execution_count": 33,
   "metadata": {},
   "outputs": [],
   "source": [
    "df_minus_cf = {k: v['df_minus_cf'] for k, v in audits2.items() if v and 'df_minus_cf' in v}"
   ]
  },
  {
   "cell_type": "code",
   "execution_count": 34,
   "metadata": {},
   "outputs": [
    {
     "data": {
      "text/plain": [
       "(7208, 2712)"
      ]
     },
     "execution_count": 34,
     "metadata": {},
     "output_type": "execute_result"
    }
   ],
   "source": [
    "df_minus_cf_counts = [len(v) for v in df_minus_cf.values()]\n",
    "sum(df_minus_cf_counts), len(df_minus_cf)"
   ]
  },
  {
   "cell_type": "code",
   "execution_count": 35,
   "metadata": {},
   "outputs": [
    {
     "data": {
      "text/plain": [
       "Text(0.5, 1.0, 'Number of feedstock missing N pkgs')"
      ]
     },
     "execution_count": 35,
     "metadata": {},
     "output_type": "execute_result"
    },
    {
     "data": {
      "image/png": "[encoded data removed]",
      "text/plain": [
       "<Figure size 432x288 with 1 Axes>"
      ]
     },
     "metadata": {
      "needs_background": "light"
     },
     "output_type": "display_data"
    }
   ],
   "source": [
    "plt.hist(df_minus_cf_counts, bins=range(10), align='left')\n",
    "plt.title('Number of feedstock missing N pkgs')"
   ]
  },
  {
   "cell_type": "code",
   "execution_count": null,
   "metadata": {},
   "outputs": [],
   "source": []
  }
 ],
 "metadata": {
  "kernelspec": {
   "display_name": "Python 3",
   "language": "python",
   "name": "python3"
  },
  "language_info": {
   "codemirror_mode": {
    "name": "ipython",
    "version": 3
   },
   "file_extension": ".py",
   "mimetype": "text/x-python",
   "name": "python",
   "nbconvert_exporter": "python",
   "pygments_lexer": "ipython3",
   "version": "3.7.8"
  }
 },
 "nbformat": 4,
 "nbformat_minor": 4
}
