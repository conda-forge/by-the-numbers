{
 "cells": [
  {
   "cell_type": "code",
   "execution_count": 1,
   "metadata": {},
   "outputs": [],
   "source": [
    "import dask.dataframe as dd\n",
    "from datetime import datetime\n",
    "import intake\n",
    "import numpy as np\n",
    "import pandas as pd"
   ]
  },
  {
   "cell_type": "code",
   "execution_count": 2,
   "metadata": {},
   "outputs": [],
   "source": [
    "from dask.diagnostics import ProgressBar\n",
    "pbar = ProgressBar()\n",
    "pbar.register()"
   ]
  },
  {
   "cell_type": "code",
   "execution_count": 3,
   "metadata": {},
   "outputs": [],
   "source": [
    "import intake\n",
    "from tqdm import tqdm\n",
    "\n",
    "# cat = intake.Catalog('https://raw.githubusercontent.com/ContinuumIO/anaconda-package-data/master/catalog/anaconda_package_data.yaml')\n",
    "# monthly = cat.anaconda_package_data_by_month(year=2019, month=12).to_dask()"
   ]
  },
  {
   "cell_type": "code",
   "execution_count": 4,
   "metadata": {},
   "outputs": [],
   "source": [
    "datetime_count = {}"
   ]
  },
  {
   "cell_type": "code",
   "execution_count": 5,
   "metadata": {},
   "outputs": [
    {
     "name": "stderr",
     "output_type": "stream",
     "text": [
      "\r",
      "  0%|          | 0/4 [00:00<?, ?it/s]"
     ]
    },
    {
     "name": "stdout",
     "output_type": "stream",
     "text": [
      "[########################################] | 100% Completed |  4.6s\n",
      "[########################################] | 100% Completed |  2.6s\n",
      "[########################################] | 100% Completed |  2.7s\n",
      "[########################################] | 100% Completed |  3.4s\n",
      "[########################################] | 100% Completed |  3.3s\n",
      "[########################################] | 100% Completed |  3.2s\n",
      "[########################################] | 100% Completed |  3.4s\n",
      "[########################################] | 100% Completed |  3.7s\n",
      "[########################################] | 100% Completed |  3.6s\n",
      "[########################################] | 100% Completed |  4.2s\n",
      "[########################################] | 100% Completed |  3.9s\n",
      "[########################################] | 100% Completed |  4.2s\n"
     ]
    },
    {
     "name": "stderr",
     "output_type": "stream",
     "text": [
      "\r",
      " 25%|██▌       | 1/4 [02:49<08:29, 169.91s/it]"
     ]
    },
    {
     "name": "stdout",
     "output_type": "stream",
     "text": [
      "[########################################] | 100% Completed |  4.5s\n",
      "[########################################] | 100% Completed |  4.1s\n",
      "[########################################] | 100% Completed |  5.2s\n",
      "[########################################] | 100% Completed |  4.3s\n",
      "[########################################] | 100% Completed |  4.8s\n",
      "[########################################] | 100% Completed |  5.9s\n",
      "[########################################] | 100% Completed |  5.8s\n",
      "[########################################] | 100% Completed |  6.5s\n",
      "[########################################] | 100% Completed |  6.4s\n",
      "[########################################] | 100% Completed |  7.4s\n",
      "[########################################] | 100% Completed |  7.2s\n",
      "[########################################] | 100% Completed |  6.2s\n"
     ]
    },
    {
     "name": "stderr",
     "output_type": "stream",
     "text": [
      "\r",
      " 50%|█████     | 2/4 [06:06<05:55, 177.89s/it]"
     ]
    },
    {
     "name": "stdout",
     "output_type": "stream",
     "text": [
      "[########################################] | 100% Completed |  6.5s\n",
      "[########################################] | 100% Completed |  6.6s\n",
      "[########################################] | 100% Completed |  7.7s\n",
      "[########################################] | 100% Completed |  7.2s\n",
      "[########################################] | 100% Completed |  8.2s\n",
      "[########################################] | 100% Completed |  7.4s\n",
      "[########################################] | 100% Completed |  7.7s\n",
      "[########################################] | 100% Completed |  7.4s\n",
      "[########################################] | 100% Completed |  6.7s\n",
      "[########################################] | 100% Completed |  7.9s\n",
      "[########################################] | 100% Completed |  8.1s\n",
      "[########################################] | 100% Completed |  8.9s\n"
     ]
    },
    {
     "name": "stderr",
     "output_type": "stream",
     "text": [
      "\r",
      " 75%|███████▌  | 3/4 [09:55<03:13, 193.29s/it]"
     ]
    },
    {
     "name": "stdout",
     "output_type": "stream",
     "text": [
      "[########################################] | 100% Completed |  8.5s\n",
      "[########################################] | 100% Completed |  8.6s\n",
      "[########################################] | 100% Completed |  9.7s\n",
      "[########################################] | 100% Completed | 11.1s\n",
      "[########################################] | 100% Completed |  8.6s\n",
      "[########################################] | 100% Completed |  9.5s\n",
      "[########################################] | 100% Completed | 10.4s\n",
      "[########################################] | 100% Completed | 10.0s\n",
      "[########################################] | 100% Completed |  9.7s\n"
     ]
    },
    {
     "name": "stderr",
     "output_type": "stream",
     "text": [
      "100%|██████████| 4/4 [13:10<00:00, 197.67s/it]\n"
     ]
    }
   ],
   "source": [
    "for year in tqdm([2017, 2018, 2019, 2020]):\n",
    "    for month in range(1, 13):\n",
    "        try:\n",
    "            df = intake.cat.anaconda_package_data_by_month(year=year, month=month).to_dask()\n",
    "        except IndexError:\n",
    "            break\n",
    "        datetime_count[(year, month)] = df.loc[(df.data_source=='conda-forge')]['counts'].sum().compute()"
   ]
  },
  {
   "cell_type": "code",
   "execution_count": 6,
   "metadata": {},
   "outputs": [
    {
     "data": {
      "text/plain": [
       "{(2017, 1): 0,\n",
       " (2017, 2): 0,\n",
       " (2017, 3): 701645,\n",
       " (2017, 4): 7375445,\n",
       " (2017, 5): 8261383,\n",
       " (2017, 6): 7535179,\n",
       " (2017, 7): 10039857,\n",
       " (2017, 8): 12408943,\n",
       " (2017, 9): 11690260,\n",
       " (2017, 10): 13837261,\n",
       " (2017, 11): 13064540,\n",
       " (2017, 12): 11730379,\n",
       " (2018, 1): 17343201,\n",
       " (2018, 2): 18564943,\n",
       " (2018, 3): 21064271,\n",
       " (2018, 4): 16748850,\n",
       " (2018, 5): 24040170,\n",
       " (2018, 6): 23831192,\n",
       " (2018, 7): 28815251,\n",
       " (2018, 8): 32511378,\n",
       " (2018, 9): 37050898,\n",
       " (2018, 10): 47325248,\n",
       " (2018, 11): 50874921,\n",
       " (2018, 12): 42107025,\n",
       " (2019, 1): 43062229,\n",
       " (2019, 2): 46763206,\n",
       " (2019, 3): 55879507,\n",
       " (2019, 4): 48684136,\n",
       " (2019, 5): 66728803,\n",
       " (2019, 6): 62462089,\n",
       " (2019, 7): 65210830,\n",
       " (2019, 8): 61969868,\n",
       " (2019, 9): 62608046,\n",
       " (2019, 10): 78757103,\n",
       " (2019, 11): 85271670,\n",
       " (2019, 12): 90225074,\n",
       " (2020, 1): 99275455,\n",
       " (2020, 2): 99000914,\n",
       " (2020, 3): 115990884,\n",
       " (2020, 4): 122603668,\n",
       " (2020, 5): 117375623,\n",
       " (2020, 6): 120825988,\n",
       " (2020, 7): 126489061,\n",
       " (2020, 8): 150563060,\n",
       " (2020, 9): 162411810}"
      ]
     },
     "execution_count": 6,
     "metadata": {},
     "output_type": "execute_result"
    }
   ],
   "source": [
    "datetime_count"
   ]
  },
  {
   "cell_type": "code",
   "execution_count": 7,
   "metadata": {},
   "outputs": [],
   "source": [
    "datetime_count = {k: v for k, v in datetime_count.items() if v}"
   ]
  },
  {
   "cell_type": "code",
   "execution_count": 8,
   "metadata": {},
   "outputs": [],
   "source": [
    "import pandas as pd"
   ]
  },
  {
   "cell_type": "code",
   "execution_count": 9,
   "metadata": {},
   "outputs": [],
   "source": [
    "years = [k[0] for k in datetime_count]\n",
    "months = [k[1] for k in datetime_count]\n",
    "counts = [datetime_count[k] for k in zip(years, months)]"
   ]
  },
  {
   "cell_type": "code",
   "execution_count": 10,
   "metadata": {},
   "outputs": [],
   "source": [
    "cdf = pd.DataFrame({'year': years, 'months': months, 'day': [1] * len(years)})"
   ]
  },
  {
   "cell_type": "code",
   "execution_count": 11,
   "metadata": {},
   "outputs": [],
   "source": [
    "cdf['idx'] = pd.to_datetime(cdf)"
   ]
  },
  {
   "cell_type": "code",
   "execution_count": 12,
   "metadata": {},
   "outputs": [],
   "source": [
    "cdf = cdf.set_index('idx')"
   ]
  },
  {
   "cell_type": "code",
   "execution_count": 13,
   "metadata": {},
   "outputs": [],
   "source": [
    "cdf['counts'] = counts"
   ]
  },
  {
   "cell_type": "code",
   "execution_count": 14,
   "metadata": {},
   "outputs": [],
   "source": [
    "import matplotlib.pyplot as plt"
   ]
  },
  {
   "cell_type": "code",
   "execution_count": 15,
   "metadata": {},
   "outputs": [
    {
     "data": {
      "image/png": "[encoded data removed]",
      "text/plain": [
       "<Figure size 640x480 with 1 Axes>"
      ]
     },
     "metadata": {},
     "output_type": "display_data"
    },
    {
     "data": {
      "image/png": "[encoded data removed]",
      "text/plain": [
       "<Figure size 748.8x514.8 with 1 Axes>"
      ]
     },
     "metadata": {
      "needs_background": "light"
     },
     "output_type": "display_data"
    }
   ],
   "source": [
    "for context in [(\"dark_background\", \"seaborn-talk\"), (\"seaborn-talk\", )]:\n",
    "    with plt.style.context(*context):\n",
    "        fig, ax = plt.subplots()\n",
    "        cdf.plot(y='counts', ax=ax)\n",
    "        ax.set_title(f\"Downloads per Month\")\n",
    "        ax.set_xlabel(\"Date (Aggregated by Month)\")\n",
    "        ax.set_ylabel(\"Number of Downloads\")\n",
    "        fig.savefig(f\"plots/downloads-{'_'.join(context)}.png\", bbox_inches='tight', transparent=True)"
   ]
  },
  {
   "cell_type": "code",
   "execution_count": 16,
   "metadata": {},
   "outputs": [
    {
     "data": {
      "text/plain": [
       "2.339081264"
      ]
     },
     "execution_count": 16,
     "metadata": {},
     "output_type": "execute_result"
    }
   ],
   "source": [
    "cdf['counts'].sum()/1e9"
   ]
  },
  {
   "cell_type": "code",
   "execution_count": 17,
   "metadata": {},
   "outputs": [
    {
     "data": {
      "text/plain": [
       "idx\n",
       "2017-03-01      0.701645\n",
       "2017-04-01      7.375445\n",
       "2017-05-01      8.261383\n",
       "2017-06-01      7.535179\n",
       "2017-07-01     10.039857\n",
       "2017-08-01     12.408943\n",
       "2017-09-01     11.690260\n",
       "2017-10-01     13.837261\n",
       "2017-11-01     13.064540\n",
       "2017-12-01     11.730379\n",
       "2018-01-01     17.343201\n",
       "2018-02-01     18.564943\n",
       "2018-03-01     21.064271\n",
       "2018-04-01     16.748850\n",
       "2018-05-01     24.040170\n",
       "2018-06-01     23.831192\n",
       "2018-07-01     28.815251\n",
       "2018-08-01     32.511378\n",
       "2018-09-01     37.050898\n",
       "2018-10-01     47.325248\n",
       "2018-11-01     50.874921\n",
       "2018-12-01     42.107025\n",
       "2019-01-01     43.062229\n",
       "2019-02-01     46.763206\n",
       "2019-03-01     55.879507\n",
       "2019-04-01     48.684136\n",
       "2019-05-01     66.728803\n",
       "2019-06-01     62.462089\n",
       "2019-07-01     65.210830\n",
       "2019-08-01     61.969868\n",
       "2019-09-01     62.608046\n",
       "2019-10-01     78.757103\n",
       "2019-11-01     85.271670\n",
       "2019-12-01     90.225074\n",
       "2020-01-01     99.275455\n",
       "2020-02-01     99.000914\n",
       "2020-03-01    115.990884\n",
       "2020-04-01    122.603668\n",
       "2020-05-01    117.375623\n",
       "2020-06-01    120.825988\n",
       "2020-07-01    126.489061\n",
       "2020-08-01    150.563060\n",
       "2020-09-01    162.411810\n",
       "Name: counts, dtype: float64"
      ]
     },
     "execution_count": 17,
     "metadata": {},
     "output_type": "execute_result"
    }
   ],
   "source": [
    "cdf['counts'] / 1e6"
   ]
  },
  {
   "cell_type": "code",
   "execution_count": null,
   "metadata": {},
   "outputs": [],
   "source": []
  }
 ],
 "metadata": {
  "kernelspec": {
   "display_name": "Python 3",
   "language": "python",
   "name": "python3"
  },
  "language_info": {
   "codemirror_mode": {
    "name": "ipython",
    "version": 3
   },
   "file_extension": ".py",
   "mimetype": "text/x-python",
   "name": "python",
   "nbconvert_exporter": "python",
   "pygments_lexer": "ipython3",
   "version": "3.7.8"
  }
 },
 "nbformat": 4,
 "nbformat_minor": 4
}
