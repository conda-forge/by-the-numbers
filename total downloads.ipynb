{
 "cells": [
  {
   "cell_type": "code",
   "execution_count": 1,
   "metadata": {},
   "outputs": [],
   "source": [
    "import dask.dataframe as dd\n",
    "from datetime import datetime\n",
    "import intake\n",
    "import numpy as np\n",
    "import pandas as pd\n",
    "from tqdm import tqdm"
   ]
  },
  {
   "cell_type": "code",
   "execution_count": 2,
   "metadata": {},
   "outputs": [],
   "source": [
    "from dask.diagnostics import ProgressBar\n",
    "pbar = ProgressBar()\n",
    "pbar.register()"
   ]
  },
  {
   "cell_type": "code",
   "execution_count": 3,
   "metadata": {},
   "outputs": [],
   "source": [
    "datetime_count = {}"
   ]
  },
  {
   "cell_type": "code",
   "execution_count": 4,
   "metadata": {
    "scrolled": false
   },
   "outputs": [
    {
     "name": "stderr",
     "output_type": "stream",
     "text": [
      "\r",
      "  0%|          | 0/6 [00:00<?, ?it/s]"
     ]
    },
    {
     "name": "stdout",
     "output_type": "stream",
     "text": [
      "s3://anaconda-package-data/conda/hourly/2016/01/2016-01-*.parquet\n",
      "s3://anaconda-package-data/conda/hourly/2016/02/2016-02-*.parquet\n",
      "s3://anaconda-package-data/conda/hourly/2016/03/2016-03-*.parquet\n",
      "s3://anaconda-package-data/conda/hourly/2016/04/2016-04-*.parquet\n",
      "s3://anaconda-package-data/conda/hourly/2016/05/2016-05-*.parquet\n",
      "s3://anaconda-package-data/conda/hourly/2016/06/2016-06-*.parquet\n",
      "s3://anaconda-package-data/conda/hourly/2016/07/2016-07-*.parquet\n",
      "s3://anaconda-package-data/conda/hourly/2016/08/2016-08-*.parquet\n",
      "s3://anaconda-package-data/conda/hourly/2016/09/2016-09-*.parquet\n",
      "s3://anaconda-package-data/conda/hourly/2016/10/2016-10-*.parquet\n",
      "s3://anaconda-package-data/conda/hourly/2016/11/2016-11-*.parquet\n",
      "s3://anaconda-package-data/conda/hourly/2016/12/2016-12-*.parquet\n"
     ]
    },
    {
     "name": "stderr",
     "output_type": "stream",
     "text": [
      "\r",
      " 17%|█▋        | 1/6 [00:03<00:17,  3.48s/it]"
     ]
    },
    {
     "name": "stdout",
     "output_type": "stream",
     "text": [
      "s3://anaconda-package-data/conda/hourly/2017/01/2017-01-*.parquet\n",
      "[########################################] | 100% Completed |  4.9s\n",
      "2017 1\n",
      "s3://anaconda-package-data/conda/hourly/2017/02/2017-02-*.parquet\n",
      "[########################################] | 100% Completed |  3.8s\n",
      "2017 2\n",
      "s3://anaconda-package-data/conda/hourly/2017/03/2017-03-*.parquet\n",
      "[########################################] | 100% Completed |  3.8s\n",
      "2017 3\n",
      "s3://anaconda-package-data/conda/hourly/2017/04/2017-04-*.parquet\n",
      "[########################################] | 100% Completed |  5.1s\n",
      "2017 4\n",
      "s3://anaconda-package-data/conda/hourly/2017/05/2017-05-*.parquet\n",
      "[########################################] | 100% Completed |  5.8s\n",
      "2017 5\n",
      "s3://anaconda-package-data/conda/hourly/2017/06/2017-06-*.parquet\n",
      "[########################################] | 100% Completed |  5.0s\n",
      "2017 6\n",
      "s3://anaconda-package-data/conda/hourly/2017/07/2017-07-*.parquet\n",
      "[########################################] | 100% Completed |  4.5s\n",
      "2017 7\n",
      "s3://anaconda-package-data/conda/hourly/2017/08/2017-08-*.parquet\n",
      "[########################################] | 100% Completed |  5.7s\n",
      "2017 8\n",
      "s3://anaconda-package-data/conda/hourly/2017/09/2017-09-*.parquet\n",
      "[########################################] | 100% Completed |  5.1s\n",
      "2017 9\n",
      "s3://anaconda-package-data/conda/hourly/2017/10/2017-10-*.parquet\n",
      "[########################################] | 100% Completed |  5.7s\n",
      "2017 10\n",
      "s3://anaconda-package-data/conda/hourly/2017/11/2017-11-*.parquet\n",
      "[########################################] | 100% Completed |  7.4s\n",
      "2017 11\n",
      "s3://anaconda-package-data/conda/hourly/2017/12/2017-12-*.parquet\n",
      "[########################################] | 100% Completed |  7.0s\n"
     ]
    },
    {
     "name": "stderr",
     "output_type": "stream",
     "text": [
      "\r",
      " 33%|███▎      | 2/6 [02:30<05:52, 88.20s/it]"
     ]
    },
    {
     "name": "stdout",
     "output_type": "stream",
     "text": [
      "2017 12\n",
      "s3://anaconda-package-data/conda/hourly/2018/01/2018-01-*.parquet\n",
      "[########################################] | 100% Completed |  6.0s\n",
      "2018 1\n",
      "s3://anaconda-package-data/conda/hourly/2018/02/2018-02-*.parquet\n",
      "[########################################] | 100% Completed |  6.0s\n",
      "2018 2\n",
      "s3://anaconda-package-data/conda/hourly/2018/03/2018-03-*.parquet\n",
      "[########################################] | 100% Completed |  6.2s\n",
      "2018 3\n",
      "s3://anaconda-package-data/conda/hourly/2018/04/2018-04-*.parquet\n",
      "[########################################] | 100% Completed |  6.0s\n",
      "2018 4\n",
      "s3://anaconda-package-data/conda/hourly/2018/05/2018-05-*.parquet\n",
      "[########################################] | 100% Completed |  6.9s\n",
      "2018 5\n",
      "s3://anaconda-package-data/conda/hourly/2018/06/2018-06-*.parquet\n",
      "[########################################] | 100% Completed |  7.0s\n",
      "2018 6\n",
      "s3://anaconda-package-data/conda/hourly/2018/07/2018-07-*.parquet\n",
      "[########################################] | 100% Completed | 10.1s\n",
      "2018 7\n",
      "s3://anaconda-package-data/conda/hourly/2018/08/2018-08-*.parquet\n",
      "[########################################] | 100% Completed | 10.3s\n",
      "2018 8\n",
      "s3://anaconda-package-data/conda/hourly/2018/09/2018-09-*.parquet\n",
      "[########################################] | 100% Completed | 10.2s\n",
      "2018 9\n",
      "s3://anaconda-package-data/conda/hourly/2018/10/2018-10-*.parquet\n",
      "[########################################] | 100% Completed | 12.3s\n",
      "2018 10\n",
      "s3://anaconda-package-data/conda/hourly/2018/11/2018-11-*.parquet\n",
      "[########################################] | 100% Completed |  9.7s\n",
      "2018 11\n",
      "s3://anaconda-package-data/conda/hourly/2018/12/2018-12-*.parquet\n",
      "[########################################] | 100% Completed |  8.6s\n"
     ]
    },
    {
     "name": "stderr",
     "output_type": "stream",
     "text": [
      "\r",
      " 50%|█████     | 3/6 [05:32<06:32, 130.96s/it]"
     ]
    },
    {
     "name": "stdout",
     "output_type": "stream",
     "text": [
      "2018 12\n",
      "s3://anaconda-package-data/conda/hourly/2019/01/2019-01-*.parquet\n",
      "[########################################] | 100% Completed | 10.5s\n",
      "2019 1\n",
      "s3://anaconda-package-data/conda/hourly/2019/02/2019-02-*.parquet\n",
      "[########################################] | 100% Completed |  8.4s\n",
      "2019 2\n",
      "s3://anaconda-package-data/conda/hourly/2019/03/2019-03-*.parquet\n",
      "[########################################] | 100% Completed | 10.8s\n",
      "2019 3\n",
      "s3://anaconda-package-data/conda/hourly/2019/04/2019-04-*.parquet\n",
      "[########################################] | 100% Completed | 10.4s\n",
      "2019 4\n",
      "s3://anaconda-package-data/conda/hourly/2019/05/2019-05-*.parquet\n",
      "[########################################] | 100% Completed | 10.5s\n",
      "2019 5\n",
      "s3://anaconda-package-data/conda/hourly/2019/06/2019-06-*.parquet\n",
      "[########################################] | 100% Completed | 11.1s\n",
      "2019 6\n",
      "s3://anaconda-package-data/conda/hourly/2019/07/2019-07-*.parquet\n",
      "[########################################] | 100% Completed | 11.9s\n",
      "2019 7\n",
      "s3://anaconda-package-data/conda/hourly/2019/08/2019-08-*.parquet\n",
      "[########################################] | 100% Completed | 10.1s\n",
      "2019 8\n",
      "s3://anaconda-package-data/conda/hourly/2019/09/2019-09-*.parquet\n",
      "[########################################] | 100% Completed | 10.3s\n",
      "2019 9\n",
      "s3://anaconda-package-data/conda/hourly/2019/10/2019-10-*.parquet\n",
      "[########################################] | 100% Completed | 14.2s\n",
      "2019 10\n",
      "s3://anaconda-package-data/conda/hourly/2019/11/2019-11-*.parquet\n",
      "[########################################] | 100% Completed | 11.9s\n",
      "2019 11\n",
      "s3://anaconda-package-data/conda/hourly/2019/12/2019-12-*.parquet\n",
      "[########################################] | 100% Completed | 12.2s\n"
     ]
    },
    {
     "name": "stderr",
     "output_type": "stream",
     "text": [
      "\r",
      " 67%|██████▋   | 4/6 [09:17<05:36, 168.00s/it]"
     ]
    },
    {
     "name": "stdout",
     "output_type": "stream",
     "text": [
      "2019 12\n",
      "s3://anaconda-package-data/conda/hourly/2020/01/2020-01-*.parquet\n",
      "[########################################] | 100% Completed | 13.8s\n",
      "2020 1\n",
      "s3://anaconda-package-data/conda/hourly/2020/02/2020-02-*.parquet\n",
      "[########################################] | 100% Completed | 13.3s\n",
      "2020 2\n",
      "s3://anaconda-package-data/conda/hourly/2020/03/2020-03-*.parquet\n",
      "[########################################] | 100% Completed | 16.2s\n",
      "2020 3\n",
      "s3://anaconda-package-data/conda/hourly/2020/04/2020-04-*.parquet\n",
      "[########################################] | 100% Completed | 21.2s\n",
      "2020 4\n",
      "s3://anaconda-package-data/conda/hourly/2020/05/2020-05-*.parquet\n",
      "[########################################] | 100% Completed | 13.3s\n",
      "2020 5\n",
      "s3://anaconda-package-data/conda/hourly/2020/06/2020-06-*.parquet\n",
      "[########################################] | 100% Completed | 12.6s\n",
      "2020 6\n",
      "s3://anaconda-package-data/conda/hourly/2020/07/2020-07-*.parquet\n",
      "[########################################] | 100% Completed | 13.2s\n",
      "2020 7\n",
      "s3://anaconda-package-data/conda/hourly/2020/08/2020-08-*.parquet\n",
      "[########################################] | 100% Completed | 16.6s\n",
      "2020 8\n",
      "s3://anaconda-package-data/conda/hourly/2020/09/2020-09-*.parquet\n",
      "[########################################] | 100% Completed | 12.4s\n",
      "2020 9\n",
      "s3://anaconda-package-data/conda/hourly/2020/10/2020-10-*.parquet\n",
      "[########################################] | 100% Completed | 17.8s\n",
      "2020 10\n",
      "s3://anaconda-package-data/conda/hourly/2020/11/2020-11-*.parquet\n",
      "[########################################] | 100% Completed | 14.9s\n",
      "2020 11\n",
      "s3://anaconda-package-data/conda/hourly/2020/12/2020-12-*.parquet\n",
      "[########################################] | 100% Completed | 12.4s\n"
     ]
    },
    {
     "name": "stderr",
     "output_type": "stream",
     "text": [
      "\r",
      " 83%|████████▎ | 5/6 [13:48<03:25, 205.24s/it]"
     ]
    },
    {
     "name": "stdout",
     "output_type": "stream",
     "text": [
      "2020 12\n",
      "s3://anaconda-package-data/conda/hourly/2021/01/2021-01-*.parquet\n",
      "[########################################] | 100% Completed | 12.7s\n",
      "2021 1\n",
      "s3://anaconda-package-data/conda/hourly/2021/02/2021-02-*.parquet\n",
      "[########################################] | 100% Completed | 13.4s\n",
      "2021 2\n",
      "s3://anaconda-package-data/conda/hourly/2021/03/2021-03-*.parquet\n",
      "[########################################] | 100% Completed | 20.6s\n",
      "2021 3\n",
      "s3://anaconda-package-data/conda/hourly/2021/04/2021-04-*.parquet\n",
      "[########################################] | 100% Completed | 31.0s\n",
      "2021 4\n",
      "s3://anaconda-package-data/conda/hourly/2021/05/2021-05-*.parquet\n",
      "[########################################] | 100% Completed | 41.6s\n",
      "2021 5\n",
      "s3://anaconda-package-data/conda/hourly/2021/06/2021-06-*.parquet\n",
      "[########################################] | 100% Completed | 27.5s\n",
      "2021 6\n",
      "s3://anaconda-package-data/conda/hourly/2021/07/2021-07-*.parquet\n",
      "[########################################] | 100% Completed | 34.8s\n",
      "2021 7\n",
      "s3://anaconda-package-data/conda/hourly/2021/08/2021-08-*.parquet\n",
      "s3://anaconda-package-data/conda/hourly/2021/09/2021-09-*.parquet\n",
      "s3://anaconda-package-data/conda/hourly/2021/10/2021-10-*.parquet\n",
      "s3://anaconda-package-data/conda/hourly/2021/11/2021-11-*.parquet\n",
      "s3://anaconda-package-data/conda/hourly/2021/12/2021-12-*.parquet\n"
     ]
    },
    {
     "name": "stderr",
     "output_type": "stream",
     "text": [
      "100%|██████████| 6/6 [17:45<00:00, 177.66s/it]\n"
     ]
    }
   ],
   "source": [
    "for year in tqdm([2016, 2017, 2018, 2019, 2020, 2021]):\n",
    "    for month in range(1, 13):\n",
    "        s = f's3://anaconda-package-data/conda/hourly/{year}/{month:02}/{year}-{month:02}-*.parquet'\n",
    "        print(s)\n",
    "        try:\n",
    "            df = dd.read_parquet(s,storage_options={'anon': True})\n",
    "        except IndexError:\n",
    "            continue\n",
    "        except FileNotFoundError:\n",
    "            continue\n",
    "        datetime_count[(year, month)] = df.loc[(df.data_source=='conda-forge')]['counts'].sum().compute()\n",
    "        print(year, month)"
   ]
  },
  {
   "cell_type": "code",
   "execution_count": 5,
   "metadata": {},
   "outputs": [
    {
     "data": {
      "text/plain": [
       "{(2017, 1): 0,\n",
       " (2017, 2): 0,\n",
       " (2017, 3): 701645,\n",
       " (2017, 4): 7375445,\n",
       " (2017, 5): 8261383,\n",
       " (2017, 6): 7535179,\n",
       " (2017, 7): 10039857,\n",
       " (2017, 8): 12408943,\n",
       " (2017, 9): 11690260,\n",
       " (2017, 10): 13837261,\n",
       " (2017, 11): 13064540,\n",
       " (2017, 12): 11730379,\n",
       " (2018, 1): 17343201,\n",
       " (2018, 2): 18564943,\n",
       " (2018, 3): 21064271,\n",
       " (2018, 4): 16748850,\n",
       " (2018, 5): 24040170,\n",
       " (2018, 6): 23831192,\n",
       " (2018, 7): 28815251,\n",
       " (2018, 8): 32511378,\n",
       " (2018, 9): 37050898,\n",
       " (2018, 10): 47325248,\n",
       " (2018, 11): 50874921,\n",
       " (2018, 12): 42107025,\n",
       " (2019, 1): 43062229,\n",
       " (2019, 2): 46763206,\n",
       " (2019, 3): 55879507,\n",
       " (2019, 4): 48684136,\n",
       " (2019, 5): 66728803,\n",
       " (2019, 6): 62462089,\n",
       " (2019, 7): 65210830,\n",
       " (2019, 8): 61969868,\n",
       " (2019, 9): 62608046,\n",
       " (2019, 10): 78757103,\n",
       " (2019, 11): 85271670,\n",
       " (2019, 12): 90225074,\n",
       " (2020, 1): 99275455,\n",
       " (2020, 2): 99000914,\n",
       " (2020, 3): 115990884,\n",
       " (2020, 4): 122603668,\n",
       " (2020, 5): 117375623,\n",
       " (2020, 6): 120825988,\n",
       " (2020, 7): 126489061,\n",
       " (2020, 8): 150563060,\n",
       " (2020, 9): 162411810,\n",
       " (2020, 10): 174860758,\n",
       " (2020, 11): 157774277,\n",
       " (2020, 12): 157887143,\n",
       " (2021, 1): 191561916,\n",
       " (2021, 2): 226465813,\n",
       " (2021, 3): 261409705,\n",
       " (2021, 4): 243629532,\n",
       " (2021, 5): 236837474,\n",
       " (2021, 6): 264760615,\n",
       " (2021, 7): 271182169}"
      ]
     },
     "execution_count": 5,
     "metadata": {},
     "output_type": "execute_result"
    }
   ],
   "source": [
    "datetime_count"
   ]
  },
  {
   "cell_type": "code",
   "execution_count": 6,
   "metadata": {},
   "outputs": [],
   "source": [
    "datetime_count = {k: v for k, v in datetime_count.items() if v}"
   ]
  },
  {
   "cell_type": "code",
   "execution_count": 7,
   "metadata": {},
   "outputs": [],
   "source": [
    "import pandas as pd"
   ]
  },
  {
   "cell_type": "code",
   "execution_count": 8,
   "metadata": {},
   "outputs": [],
   "source": [
    "years = [k[0] for k in datetime_count]\n",
    "months = [k[1] for k in datetime_count]\n",
    "counts = [datetime_count[k] for k in zip(years, months)]"
   ]
  },
  {
   "cell_type": "code",
   "execution_count": 9,
   "metadata": {},
   "outputs": [],
   "source": [
    "cdf = pd.DataFrame({'year': years, 'months': months, 'day': [1] * len(years)})"
   ]
  },
  {
   "cell_type": "code",
   "execution_count": 10,
   "metadata": {},
   "outputs": [],
   "source": [
    "cdf['idx'] = pd.to_datetime(cdf)"
   ]
  },
  {
   "cell_type": "code",
   "execution_count": 11,
   "metadata": {},
   "outputs": [],
   "source": [
    "cdf = cdf.set_index('idx')"
   ]
  },
  {
   "cell_type": "code",
   "execution_count": 12,
   "metadata": {},
   "outputs": [],
   "source": [
    "cdf['counts'] = counts"
   ]
  },
  {
   "cell_type": "code",
   "execution_count": 13,
   "metadata": {},
   "outputs": [],
   "source": [
    "import matplotlib.pyplot as plt"
   ]
  },
  {
   "cell_type": "code",
   "execution_count": 14,
   "metadata": {},
   "outputs": [
    {
     "data": {
      "image/png": "[encoded data removed]",
      "text/plain": [
       "<Figure size 640x480 with 1 Axes>"
      ]
     },
     "metadata": {},
     "output_type": "display_data"
    },
    {
     "data": {
      "image/png": "[encoded data removed]",
      "text/plain": [
       "<Figure size 748.8x514.8 with 1 Axes>"
      ]
     },
     "metadata": {
      "needs_background": "light"
     },
     "output_type": "display_data"
    }
   ],
   "source": [
    "for context in [(\"dark_background\", \"seaborn-talk\"), (\"seaborn-talk\", )]:\n",
    "    with plt.style.context(*context):\n",
    "        fig, ax = plt.subplots()\n",
    "        cdf.plot(y='counts', ax=ax)\n",
    "        ax.set_title(f\"Downloads per Month\")\n",
    "        ax.set_xlabel(\"Date (Aggregated by Month)\")\n",
    "        ax.set_ylabel(\"Number of Downloads\")\n",
    "        fig.savefig(f\"plots/downloads-{'_'.join(context)}.png\", bbox_inches='tight', transparent=True)"
   ]
  },
  {
   "cell_type": "code",
   "execution_count": 15,
   "metadata": {},
   "outputs": [
    {
     "data": {
      "text/plain": [
       "4.525450666"
      ]
     },
     "execution_count": 15,
     "metadata": {},
     "output_type": "execute_result"
    }
   ],
   "source": [
    "cdf['counts'].sum()/1e9"
   ]
  },
  {
   "cell_type": "code",
   "execution_count": 16,
   "metadata": {},
   "outputs": [
    {
     "data": {
      "text/plain": [
       "idx\n",
       "2017-03-01      0.701645\n",
       "2017-04-01      7.375445\n",
       "2017-05-01      8.261383\n",
       "2017-06-01      7.535179\n",
       "2017-07-01     10.039857\n",
       "2017-08-01     12.408943\n",
       "2017-09-01     11.690260\n",
       "2017-10-01     13.837261\n",
       "2017-11-01     13.064540\n",
       "2017-12-01     11.730379\n",
       "2018-01-01     17.343201\n",
       "2018-02-01     18.564943\n",
       "2018-03-01     21.064271\n",
       "2018-04-01     16.748850\n",
       "2018-05-01     24.040170\n",
       "2018-06-01     23.831192\n",
       "2018-07-01     28.815251\n",
       "2018-08-01     32.511378\n",
       "2018-09-01     37.050898\n",
       "2018-10-01     47.325248\n",
       "2018-11-01     50.874921\n",
       "2018-12-01     42.107025\n",
       "2019-01-01     43.062229\n",
       "2019-02-01     46.763206\n",
       "2019-03-01     55.879507\n",
       "2019-04-01     48.684136\n",
       "2019-05-01     66.728803\n",
       "2019-06-01     62.462089\n",
       "2019-07-01     65.210830\n",
       "2019-08-01     61.969868\n",
       "2019-09-01     62.608046\n",
       "2019-10-01     78.757103\n",
       "2019-11-01     85.271670\n",
       "2019-12-01     90.225074\n",
       "2020-01-01     99.275455\n",
       "2020-02-01     99.000914\n",
       "2020-03-01    115.990884\n",
       "2020-04-01    122.603668\n",
       "2020-05-01    117.375623\n",
       "2020-06-01    120.825988\n",
       "2020-07-01    126.489061\n",
       "2020-08-01    150.563060\n",
       "2020-09-01    162.411810\n",
       "2020-10-01    174.860758\n",
       "2020-11-01    157.774277\n",
       "2020-12-01    157.887143\n",
       "2021-01-01    191.561916\n",
       "2021-02-01    226.465813\n",
       "2021-03-01    261.409705\n",
       "2021-04-01    243.629532\n",
       "2021-05-01    236.837474\n",
       "2021-06-01    264.760615\n",
       "2021-07-01    271.182169\n",
       "Name: counts, dtype: float64"
      ]
     },
     "execution_count": 16,
     "metadata": {},
     "output_type": "execute_result"
    }
   ],
   "source": [
    "cdf['counts'] / 1e6"
   ]
  },
  {
   "cell_type": "code",
   "execution_count": null,
   "metadata": {},
   "outputs": [],
   "source": []
  }
 ],
 "metadata": {
  "kernelspec": {
   "display_name": "Python 3",
   "language": "python",
   "name": "python3"
  },
  "language_info": {
   "codemirror_mode": {
    "name": "ipython",
    "version": 3
   },
   "file_extension": ".py",
   "mimetype": "text/x-python",
   "name": "python",
   "nbconvert_exporter": "python",
   "pygments_lexer": "ipython3",
   "version": "3.8.10"
  }
 },
 "nbformat": 4,
 "nbformat_minor": 4
}
